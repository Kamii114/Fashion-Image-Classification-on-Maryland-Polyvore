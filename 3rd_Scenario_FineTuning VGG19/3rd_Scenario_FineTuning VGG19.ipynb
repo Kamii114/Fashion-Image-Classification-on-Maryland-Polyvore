{
  "cells": [
    {
      "cell_type": "markdown",
      "metadata": {
        "id": "yhoZDKQiF9On"
      },
      "source": [
        "# Fashion Image Classification on Maryland Polyvore: Third Scenario - FineTuning VGG19\n",
        "\n",
        "## Authors\n",
        "- Kamand Kalashi\n",
        "- Sajjad Saed\n",
        "\n",
        "\n",
        "## Project Overview\n",
        "This project focuses on fine-tuning the VGG19 architecture to enhance image classification capabilities within the fashion domain. Our primary goal is to classify fashion images into distinct categories using the Maryland Fashion Dataset, which can be accessed [here](https://github.com/AemikaChow/AiDLab-fAshIon-Data/blob/main/Datasets/cleaned-maryland.md).\n",
        "\n",
        "### Dataset\n",
        "The Maryland Fashion Dataset consists of a diverse array of fashion images, organized into predefined classes. This variety allows the fine-tuned VGG19 model to effectively learn and generalize the visual features associated with different fashion items.\n",
        "\n",
        "### Methodology\n",
        "#### 1. Environment Setup\n",
        "We start by importing essential libraries such as TensorFlow and Keras, which facilitate the building and training of the fine-tuning model. Additional libraries for data manipulation, image processing, and visualization are included to streamline the workflow.\n",
        "\n",
        "#### 2. Data Preparation\n",
        "Data preparation is crucial in any machine learning project. We mount Google Drive to access our dataset efficiently and retrieve class names, providing an overview of the categories we will work with. Sample images from each class are displayed to visualize the dataset's diversity.\n",
        "\n",
        "#### 3. Image Preprocessing\n",
        "To ensure effective processing by the VGG19 model, all images are resized to a uniform dimension of 150x150 pixels. Pixel values are also normalized to the [0, 1] range, which is essential for optimal training performance.\n",
        "\n",
        "#### 4. Data Augmentation\n",
        "To improve model robustness and mitigate overfitting, data augmentation techniques are applied. These include random rotations, shifts, and flips, which artificially increase the variability of the training dataset.\n",
        "\n",
        "#### 5. Model Architecture\n",
        "We utilize the pre-trained VGG19 model as our base architecture, initially setting its layers to non-trainable to retain the learned features from the ImageNet dataset. We then add a global average pooling layer, followed by dropout and dense layers, to classify the images into their respective categories.\n",
        "\n",
        "#### 6. Model Compilation\n",
        "The model is compiled using categorical crossentropy as the loss function and the Adam optimizer. Accuracy is monitored as the primary performance metric, providing insights into the model's classification capabilities.\n",
        "\n",
        "#### 7. Model Training\n",
        "The model is trained on the training dataset while the validation dataset allows for performance monitoring and overfitting prevention. We employ callbacks like EarlyStopping and ReduceLROnPlateau to optimize the training process.\n",
        "\n",
        "#### 8. Model Evaluation\n",
        "After training, the model's performance is evaluated on a separate test set. Metrics such as accuracy, loss, and a classification report (including precision, recall, and F1 scores for each class) are computed. A confusion matrix is visualized to identify misclassifications, aiding in further model refinement.\n",
        "\n",
        "\n",
        "### Conclusion\n",
        "This project demonstrates a comprehensive approach to fine-tuning the VGG19 model for image classification tasks. By following this structured methodology, we aim to develop a robust model capable of accurately classifying fashion images. Insights gained from the evaluation phase will inform future enhancements and iterations of the model."
      ]
    },
    {
      "cell_type": "markdown",
      "metadata": {},
      "source": [
        "## Importing Required Libraries\n",
        "We import the necessary libraries for data processing, image manipulation, model building, and evaluation."
      ]
    },
    {
      "cell_type": "code",
      "execution_count": 1,
      "metadata": {
        "id": "SUSzu3phPAwk"
      },
      "outputs": [],
      "source": [
        "# Importing required libraries\n",
        "# Feature extraction and feature selection\n",
        "import numpy as np\n",
        "import pandas as pd\n",
        "\n",
        "# imqage processing and visualization\n",
        "import cv2\n",
        "import tqdm as tqdm\n",
        "from PIL import Image\n",
        "import os\n",
        "import matplotlib.pyplot as plt\n",
        "import seaborn as sns\n",
        "\n",
        "# Data training and create cnn model\n",
        "import tensorflow as tf\n",
        "from tensorflow.keras.preprocessing.image import ImageDataGenerator\n",
        "from sklearn.utils import shuffle\n",
        "from sklearn.model_selection import train_test_split\n",
        "from keras.models import Sequential\n",
        "from keras.models import Model\n",
        "from tensorflow.keras.applications import VGG19\n",
        "from keras.layers import Conv2D, MaxPool2D, Dropout, Dense, MaxPooling2D, GlobalAveragePooling2D, Flatten , BatchNormalization\n",
        "from keras.utils import to_categorical\n",
        "from tensorflow.keras.optimizers import Adam\n",
        "from sklearn.metrics import confusion_matrix,classification_report\n",
        "from keras.callbacks import EarlyStopping,ReduceLROnPlateau, TensorBoard, ModelCheckpoint\n",
        "import itertools\n",
        "import ipywidgets as widgets"
      ]
    },
    {
      "cell_type": "markdown",
      "metadata": {},
      "source": [
        "## Mounting Google Drive\n",
        "To access the dataset stored on Google Drive, we mount it in our Colab environment."
      ]
    },
    {
      "cell_type": "code",
      "execution_count": 2,
      "metadata": {
        "colab": {
          "base_uri": "https://localhost:8080/"
        },
        "id": "0jug66zdHcQZ",
        "outputId": "1dec858f-b457-4e5c-8863-aed86acf3912"
      },
      "outputs": [
        {
          "name": "stdout",
          "output_type": "stream",
          "text": [
            "Drive already mounted at /content/drive; to attempt to forcibly remount, call drive.mount(\"/content/drive\", force_remount=True).\n"
          ]
        }
      ],
      "source": [
        "from google.colab import drive\n",
        "drive.mount('/content/drive')"
      ]
    },
    {
      "cell_type": "code",
      "execution_count": 3,
      "metadata": {
        "colab": {
          "base_uri": "https://localhost:8080/"
        },
        "id": "yA5fu9PbGFoD",
        "outputId": "c546493e-5cc7-4f08-bc64-dc99529c0684"
      },
      "outputs": [
        {
          "name": "stdout",
          "output_type": "stream",
          "text": [
            "Drive already mounted at /content/drive; to attempt to forcibly remount, call drive.mount(\"/content/drive\", force_remount=True).\n"
          ]
        }
      ],
      "source": [
        "# Mount Google drive\n",
        "from google.colab import drive\n",
        "drive.mount('/content/drive')"
      ]
    },
    {
      "cell_type": "markdown",
      "metadata": {},
      "source": [
        "## Dataset Path\n",
        "We specify the path to the dataset in our Google Drive."
      ]
    },
    {
      "cell_type": "code",
      "execution_count": 4,
      "metadata": {
        "id": "zm0aBJ-UGJT9"
      },
      "outputs": [],
      "source": [
        "dataset_path = '/content/drive/MyDrive/Colab Notebooks/Polyvore/'"
      ]
    },
    {
      "cell_type": "markdown",
      "metadata": {},
      "source": [
        "## Getting Class Names\n",
        "We define a function to retrieve the dataset class names and their count by listing the directories in the dataset path."
      ]
    },
    {
      "cell_type": "code",
      "execution_count": 5,
      "metadata": {
        "id": "qOEZL5kPGMaE"
      },
      "outputs": [],
      "source": [
        "# return dataset class names and count\n",
        "def get_class_names(data_path):\n",
        "    class_names = [f for f in os.listdir(dataset_path) if os.path.isdir(os.path.join(dataset_path, f))]\n",
        "    return class_names"
      ]
    },
    {
      "cell_type": "code",
      "execution_count": 6,
      "metadata": {
        "colab": {
          "base_uri": "https://localhost:8080/"
        },
        "id": "Nl7QgVWDGQtm",
        "outputId": "716bdf23-9013-41d8-b365-590768b26c3d"
      },
      "outputs": [
        {
          "name": "stdout",
          "output_type": "stream",
          "text": [
            "Dataset class count: 8  and names are: ['bag', 'dress', 'eyewear', 'hats', 'neckwear', 'pants', 'shoes', 'watches']\n"
          ]
        }
      ],
      "source": [
        "# get dataset class names and count\n",
        "class_names = get_class_names(dataset_path)\n",
        "print(\"Dataset class count:\", len(class_names),\" and names are:\", class_names)"
      ]
    },
    {
      "cell_type": "markdown",
      "metadata": {},
      "source": [
        "## Image Preprocessing\n",
        "We resize all images to a uniform size (150x150) and store them along with their labels in an array."
      ]
    },
    {
      "cell_type": "code",
      "execution_count": 7,
      "metadata": {
        "colab": {
          "base_uri": "https://localhost:8080/"
        },
        "id": "fEawSVgbGU7H",
        "outputId": "e85ad35d-e14f-478a-8ad1-d00ebdf17913"
      },
      "outputs": [
        {
          "name": "stderr",
          "output_type": "stream",
          "text": [
            "100%|██████████| 786/786 [00:09<00:00, 82.97it/s]\n",
            "100%|██████████| 800/800 [00:07<00:00, 103.14it/s]\n",
            "100%|██████████| 780/780 [00:04<00:00, 173.04it/s]\n",
            "100%|██████████| 782/782 [00:05<00:00, 147.66it/s]\n",
            "100%|██████████| 791/791 [00:04<00:00, 177.62it/s]\n",
            "100%|██████████| 793/793 [00:04<00:00, 196.58it/s]\n",
            "100%|██████████| 789/789 [00:05<00:00, 144.96it/s]\n",
            "100%|██████████| 786/786 [00:04<00:00, 194.09it/s]\n"
          ]
        },
        {
          "data": {
            "text/plain": [
              "[[786, 'bag'],\n",
              " [800, 'dress'],\n",
              " [780, 'eyewear'],\n",
              " [782, 'hats'],\n",
              " [791, 'neckwear'],\n",
              " [793, 'pants'],\n",
              " [789, 'shoes'],\n",
              " [786, 'watches']]"
            ]
          },
          "execution_count": 7,
          "metadata": {},
          "output_type": "execute_result"
        }
      ],
      "source": [
        "# to resizing all data to same size (150*150)\n",
        "image_size = 150\n",
        "# Array to store all images with its label\n",
        "all_data = []\n",
        "image_count = []\n",
        "count = 0\n",
        "\n",
        "# For each index in the list of classes (class_names), by using method join with arguments dataset_path and i,\n",
        "# reads all images of these classes and after resizing to 150*150, store the image with its label in all_data array\n",
        "for i in class_names:\n",
        "  path=os.path.join(dataset_path,i)\n",
        "  class_label = class_names.index(i)\n",
        "  for image in tqdm.tqdm(os.listdir(path)):\n",
        "    try:\n",
        "      image_array=cv2.imread(os.path.join(path,image))\n",
        "      new_image_array = cv2.resize(image_array, (image_size, image_size))\n",
        "      all_data.append([new_image_array, class_label])\n",
        "      # plt.imshow(new_image_array)\n",
        "      # plt.show()\n",
        "      # break\n",
        "      if os.path.isfile(os.path.join(path,image)):\n",
        "        count += 1\n",
        "    except Exception as e:\n",
        "      pass\n",
        "  image_count.append([count, class_names[class_label]])\n",
        "  count = 0\n",
        "image_count"
      ]
    },
    {
      "cell_type": "code",
      "execution_count": 8,
      "metadata": {
        "colab": {
          "base_uri": "https://localhost:8080/"
        },
        "id": "8mR19YkTGYxq",
        "outputId": "da4f3403-9f01-4106-ef68-7de1455e550d"
      },
      "outputs": [
        {
          "name": "stdout",
          "output_type": "stream",
          "text": [
            "6307\n"
          ]
        }
      ],
      "source": [
        "print(len(all_data))"
      ]
    },
    {
      "cell_type": "code",
      "execution_count": 9,
      "metadata": {
        "colab": {
          "base_uri": "https://localhost:8080/"
        },
        "id": "lKKr0rz7Gdxo",
        "outputId": "f3931e3c-c433-4c77-b7dc-9cc33e5a76da"
      },
      "outputs": [
        {
          "data": {
            "text/plain": [
              "(150, 150, 3)"
            ]
          },
          "execution_count": 9,
          "metadata": {},
          "output_type": "execute_result"
        }
      ],
      "source": [
        "all_data[0][0].shape"
      ]
    },
    {
      "cell_type": "markdown",
      "metadata": {},
      "source": [
        "## Converting Data to NumPy Array\n",
        "We convert the image data to a NumPy array for easier processing and shuffle the data."
      ]
    },
    {
      "cell_type": "code",
      "execution_count": 10,
      "metadata": {
        "colab": {
          "base_uri": "https://localhost:8080/"
        },
        "id": "obP76ZtjGgbQ",
        "outputId": "146da5b5-76a0-49d9-87d3-35c261351352"
      },
      "outputs": [
        {
          "name": "stdout",
          "output_type": "stream",
          "text": [
            "(6307, 150, 150, 3)\n"
          ]
        }
      ],
      "source": [
        "# split images and labels to X and Y arays\n",
        "# images\n",
        "labels = class_names\n",
        "X = []\n",
        "# labels\n",
        "Y = []\n",
        "for i, j in all_data:\n",
        "  X.append(i)\n",
        "  Y.append(j)\n",
        "\n",
        "X = np.array(X)\n",
        "X , Y = shuffle(X,Y,random_state = 42)\n",
        "print(X.shape)\n",
        "X = X /255\n",
        "y_categorical = to_categorical(Y,num_classes = 8)"
      ]
    },
    {
      "cell_type": "markdown",
      "metadata": {},
      "source": [
        "## Splitting the Data\n",
        "We split the data into training and testing sets, ensuring that we have a balanced distribution of classes in both sets."
      ]
    },
    {
      "cell_type": "code",
      "execution_count": 11,
      "metadata": {
        "id": "UTJIyqqJ1_oD"
      },
      "outputs": [],
      "source": [
        "# split the all_data into 80% train data and 20% test data by random state 42\n",
        "X_train, X_test, y_train, y_test = train_test_split(X, y_categorical, test_size = 0.2, random_state = 101,shuffle = True)\n",
        "# split 20% of the train data for validation\n",
        "X_train, X_val, y_train, y_val = train_test_split(X_train, y_train, test_size = 0.20, random_state = 101,shuffle = True)"
      ]
    },
    {
      "cell_type": "code",
      "execution_count": 12,
      "metadata": {
        "colab": {
          "base_uri": "https://localhost:8080/"
        },
        "id": "YTeT8155DqIM",
        "outputId": "342cde81-b323-44aa-9c3e-07e8cd4a9519"
      },
      "outputs": [
        {
          "name": "stdout",
          "output_type": "stream",
          "text": [
            "all data: 6307\n",
            "total train data: 4036 and shape: (4036, 150, 150, 3)\n",
            "total validation data: 1009 and shape: (1009, 150, 150, 3)\n",
            "total test data: 1262 and shape: (1262, 150, 150, 3)\n"
          ]
        }
      ],
      "source": [
        "print('all data:', len(all_data))\n",
        "print('total train data:', len(X_train) , 'and shape:', X_train.shape)\n",
        "print('total validation data:', len(X_val), 'and shape:', X_val.shape)\n",
        "print('total test data:', len(X_test), 'and shape:', X_test.shape)"
      ]
    },
    {
      "cell_type": "code",
      "execution_count": 13,
      "metadata": {
        "id": "0Vxhfcx9G_4C"
      },
      "outputs": [],
      "source": [
        "# Data Preprocessing\n",
        "train_generator = ImageDataGenerator(\n",
        "    rotation_range=35,\n",
        "    width_shift_range=0.2,\n",
        "    height_shift_range=0.2,\n",
        "    horizontal_flip=True,\n",
        "    shear_range=0.2,\n",
        "    zoom_range=0.2,\n",
        "    featurewise_std_normalization=False,\n",
        "    samplewise_center=False,\n",
        "    samplewise_std_normalization=False,\n",
        "    # rescale=1./255,  # Add rescaling\n",
        "    # brightness_range=[0.5, 1.5],  # Random brightness\n",
        "    # channel_shift_range=10.0,  # Random channel shift\n",
        "    # preprocessing_function=tf.keras.applications.vgg.preprocess_input\n",
        ")\n",
        "\n",
        "\n",
        "# train_generator =ImageDataGenerator(  rotation_range=35,\n",
        "#                                       width_shift_range=0.2,\n",
        "#                                       height_shift_range=0.2,\n",
        "#                                       horizontal_flip=True,\n",
        "#                                       shear_range=0.2,\n",
        "#                                       zoom_range=0.2,\n",
        "#                                       featurewise_std_normalization=False,\n",
        "#                                       samplewise_center=False,\n",
        "#                                       samplewise_std_normalization=False,\n",
        "#   # rotation_range=10,\n",
        "#   # width_shift_range=0.2,\n",
        "  # horizontal_flip=False,\n",
        "  # vertical_flip=False,\n",
        "  # zoom_range=0.2,\n",
        "  # featurewise_center=False,\n",
        "  # featurewise_std_normalization=False,\n",
        "  # samplewise_center=False,\n",
        "  # samplewise_std_normalization=False,\n",
        "  # zca_whitening=False\n",
        "  # )"
      ]
    },
    {
      "cell_type": "markdown",
      "metadata": {},
      "source": [
        "## Defining the Model\n",
        "We define the VGG19 model, excluding the top layers, and add our own layers for classification."
      ]
    },
    {
      "cell_type": "code",
      "execution_count": 14,
      "metadata": {
        "id": "t45lTOXzGqbl"
      },
      "outputs": [],
      "source": [
        "base_model = VGG19(weights = 'imagenet', include_top = False, input_shape = (image_size, image_size, 3))\n",
        "for layer in base_model.layers:\n",
        "    layer.trainable = False"
      ]
    },
    {
      "cell_type": "code",
      "execution_count": 15,
      "metadata": {
        "id": "1TuwjD1BG24c"
      },
      "outputs": [],
      "source": [
        "#Sajjad\n",
        "model = Sequential()\n",
        "model = base_model.output\n",
        "# # # Set the last few layers of the base model to be trainable\n",
        "# for layer in base_model.layers[-3:]:\n",
        "#     layer.trainable = True\n",
        "\n",
        "# model = GlobalAveragePooling2D()(model)\n",
        "# model = BatchNormalization()(model)\n",
        "# # model = Dropout(rate = 0.2)(model)\n",
        "\n",
        "# model= Dense(256, activation='relu')(model)\n",
        "# model = Dropout(rate = 0.5)(model)\n",
        "# # model = Dropout(rate = 0.2)(model)\n",
        "# model = Dense(8, activation = 'softmax')(model)\n",
        "# model = Model(inputs = base_model.input, outputs = model)\n",
        "\n",
        "#Kami\n",
        "model = GlobalAveragePooling2D()(model)\n",
        "model = BatchNormalization()(model)\n",
        "model = Dropout(rate = 0.5)(model)\n",
        "model= Dense(64, activation='relu')(model)\n",
        "model = Dropout(rate = 0.2)(model)\n",
        "model = Dense(8, activation = 'softmax')(model)\n",
        "model = Model(inputs = base_model.input, outputs = model)\n",
        "# model.trainable = True\n",
        "\n",
        "# Set the last few layers of the base model to be trainable\n",
        "for layer in base_model.layers[-5:]:\n",
        "    layer.trainable = True\n",
        "\n",
        "# model = Flatten()(base_model.output)\n",
        "# model = Dense(256, activation='relu')(model)\n",
        "# model = Dropout(0.5)(model)\n",
        "# model = Dense(10, activation='softmax')(model)\n",
        "# model = Model(inputs = base_model.input, outputs = model)"
      ]
    },
    {
      "cell_type": "code",
      "execution_count": 16,
      "metadata": {
        "colab": {
          "base_uri": "https://localhost:8080/"
        },
        "id": "MllFlyP-G399",
        "outputId": "ef06399e-1465-4341-b982-c74ab87dcfa5"
      },
      "outputs": [
        {
          "name": "stdout",
          "output_type": "stream",
          "text": [
            "Model: \"model\"\n",
            "_________________________________________________________________\n",
            " Layer (type)                Output Shape              Param #   \n",
            "=================================================================\n",
            " input_1 (InputLayer)        [(None, 150, 150, 3)]     0         \n",
            "                                                                 \n",
            " block1_conv1 (Conv2D)       (None, 150, 150, 64)      1792      \n",
            "                                                                 \n",
            " block1_conv2 (Conv2D)       (None, 150, 150, 64)      36928     \n",
            "                                                                 \n",
            " block1_pool (MaxPooling2D)  (None, 75, 75, 64)        0         \n",
            "                                                                 \n",
            " block2_conv1 (Conv2D)       (None, 75, 75, 128)       73856     \n",
            "                                                                 \n",
            " block2_conv2 (Conv2D)       (None, 75, 75, 128)       147584    \n",
            "                                                                 \n",
            " block2_pool (MaxPooling2D)  (None, 37, 37, 128)       0         \n",
            "                                                                 \n",
            " block3_conv1 (Conv2D)       (None, 37, 37, 256)       295168    \n",
            "                                                                 \n",
            " block3_conv2 (Conv2D)       (None, 37, 37, 256)       590080    \n",
            "                                                                 \n",
            " block3_conv3 (Conv2D)       (None, 37, 37, 256)       590080    \n",
            "                                                                 \n",
            " block3_conv4 (Conv2D)       (None, 37, 37, 256)       590080    \n",
            "                                                                 \n",
            " block3_pool (MaxPooling2D)  (None, 18, 18, 256)       0         \n",
            "                                                                 \n",
            " block4_conv1 (Conv2D)       (None, 18, 18, 512)       1180160   \n",
            "                                                                 \n",
            " block4_conv2 (Conv2D)       (None, 18, 18, 512)       2359808   \n",
            "                                                                 \n",
            " block4_conv3 (Conv2D)       (None, 18, 18, 512)       2359808   \n",
            "                                                                 \n",
            " block4_conv4 (Conv2D)       (None, 18, 18, 512)       2359808   \n",
            "                                                                 \n",
            " block4_pool (MaxPooling2D)  (None, 9, 9, 512)         0         \n",
            "                                                                 \n",
            " block5_conv1 (Conv2D)       (None, 9, 9, 512)         2359808   \n",
            "                                                                 \n",
            " block5_conv2 (Conv2D)       (None, 9, 9, 512)         2359808   \n",
            "                                                                 \n",
            " block5_conv3 (Conv2D)       (None, 9, 9, 512)         2359808   \n",
            "                                                                 \n",
            " block5_conv4 (Conv2D)       (None, 9, 9, 512)         2359808   \n",
            "                                                                 \n",
            " block5_pool (MaxPooling2D)  (None, 4, 4, 512)         0         \n",
            "                                                                 \n",
            " global_average_pooling2d (  (None, 512)               0         \n",
            " GlobalAveragePooling2D)                                         \n",
            "                                                                 \n",
            " batch_normalization (Batch  (None, 512)               2048      \n",
            " Normalization)                                                  \n",
            "                                                                 \n",
            " dropout (Dropout)           (None, 512)               0         \n",
            "                                                                 \n",
            " dense (Dense)               (None, 64)                32832     \n",
            "                                                                 \n",
            " dropout_1 (Dropout)         (None, 64)                0         \n",
            "                                                                 \n",
            " dense_1 (Dense)             (None, 8)                 520       \n",
            "                                                                 \n",
            "=================================================================\n",
            "Total params: 20059784 (76.52 MB)\n",
            "Trainable params: 9473608 (36.14 MB)\n",
            "Non-trainable params: 10586176 (40.38 MB)\n",
            "_________________________________________________________________\n"
          ]
        }
      ],
      "source": [
        "model.summary()"
      ]
    },
    {
      "cell_type": "code",
      "execution_count": 17,
      "metadata": {
        "id": "6ChnyuwXG7tz"
      },
      "outputs": [],
      "source": [
        "optimizer = tf.keras.optimizers.Adam(learning_rate=0.001, beta_1=0.9, beta_2=0.999)\n",
        "model.compile(optimizer = optimizer, loss = 'categorical_crossentropy', metrics = ['accuracy'])\n",
        "# model.compile(optimizer='rmsprop', loss='categorical_crossentropy', metrics = ['accuracy'])"
      ]
    },
    {
      "cell_type": "code",
      "execution_count": 18,
      "metadata": {
        "id": "Za-BgtXFTBvr"
      },
      "outputs": [],
      "source": [
        "# Set up data augmentation for training data\n",
        "train_datagen = ImageDataGenerator(rescale=1./255,\n",
        "                                   shear_range=0.2,\n",
        "                                   zoom_range=0.2,\n",
        "                                   rotation_range=40,\n",
        "                                   horizontal_flip=True)\n",
        "\n",
        "# Set up data augmentation for validation/test data\n",
        "test_datagen = ImageDataGenerator(rescale=1./255)"
      ]
    },
    {
      "cell_type": "code",
      "execution_count": 19,
      "metadata": {
        "id": "gIjvv-GzHEmp"
      },
      "outputs": [],
      "source": [
        "reduce_lr = ReduceLROnPlateau(monitor = 'val_loss', factor = 0.3, patience = 4, verbose = 1, min_delta = 0.0001)\n",
        "tensorboard = TensorBoard(log_dir = 'logs')\n",
        "checkpoint = ModelCheckpoint(\"DL_project_transfer_learning2.h5\", monitor = 'val_accuracy', verbose = 1, save_best_only = True, mode = 'auto')"
      ]
    },
    {
      "cell_type": "markdown",
      "metadata": {},
      "source": [
        "## Model Training\n",
        "We train the model on the training dataset with validation on the test dataset."
      ]
    },
    {
      "cell_type": "code",
      "execution_count": 21,
      "metadata": {
        "colab": {
          "base_uri": "https://localhost:8080/"
        },
        "id": "r4p8dsKvUV5R",
        "outputId": "52186e24-f680-4da7-e8c8-e7df2d3505b9"
      },
      "outputs": [
        {
          "name": "stderr",
          "output_type": "stream",
          "text": [
            "<ipython-input-21-ad4204412690>:2: UserWarning: `Model.fit_generator` is deprecated and will be removed in a future version. Please use `Model.fit`, which supports generators.\n",
            "  vgg19_history = model.fit_generator(train_generator.flow(X_train, y_train, batch_size = 32),\n"
          ]
        },
        {
          "name": "stdout",
          "output_type": "stream",
          "text": [
            "Epoch 1/30\n",
            "127/127 [==============================] - ETA: 0s - loss: 1.6699 - accuracy: 0.3707\n",
            "Epoch 1: val_accuracy improved from -inf to 0.13181, saving model to DL_project_transfer_learning2.h5\n"
          ]
        },
        {
          "name": "stderr",
          "output_type": "stream",
          "text": [
            "/usr/local/lib/python3.10/dist-packages/keras/src/engine/training.py:3103: UserWarning: You are saving your model as an HDF5 file via `model.save()`. This file format is considered legacy. We recommend using instead the native Keras format, e.g. `model.save('my_model.keras')`.\n",
            "  saving_api.save_model(\n"
          ]
        },
        {
          "name": "stdout",
          "output_type": "stream",
          "text": [
            "\b\b\b\b\b\b\b\b\b\b\b\b\b\b\b\b\b\b\b\b\b\b\b\b\b\b\b\b\b\b\b\b\b\b\b\b\b\b\b\b\b\b\b\b\b\b\b\b\b\b\b\b\b\b\b\b\b\b\b\b\b\b\b\b\b\b\b\b\b\b\b\b\b\b\b\b\b\b\b\b\b\b\b\b\r127/127 [==============================] - 56s 362ms/step - loss: 1.6699 - accuracy: 0.3707 - val_loss: 13.6942 - val_accuracy: 0.1318 - lr: 0.0010\n",
            "Epoch 2/30\n",
            "127/127 [==============================] - ETA: 0s - loss: 1.1148 - accuracy: 0.5907\n",
            "Epoch 2: val_accuracy improved from 0.13181 to 0.79584, saving model to DL_project_transfer_learning2.h5\n",
            "127/127 [==============================] - 44s 345ms/step - loss: 1.1148 - accuracy: 0.5907 - val_loss: 0.6391 - val_accuracy: 0.7958 - lr: 0.0010\n",
            "Epoch 3/30\n",
            "127/127 [==============================] - ETA: 0s - loss: 0.7905 - accuracy: 0.7329\n",
            "Epoch 3: val_accuracy did not improve from 0.79584\n",
            "127/127 [==============================] - 34s 269ms/step - loss: 0.7905 - accuracy: 0.7329 - val_loss: 1.6106 - val_accuracy: 0.6174 - lr: 0.0010\n",
            "Epoch 4/30\n",
            "127/127 [==============================] - ETA: 0s - loss: 0.6060 - accuracy: 0.8070\n",
            "Epoch 4: val_accuracy did not improve from 0.79584\n",
            "127/127 [==============================] - 31s 246ms/step - loss: 0.6060 - accuracy: 0.8070 - val_loss: 0.7464 - val_accuracy: 0.7909 - lr: 0.0010\n",
            "Epoch 5/30\n",
            "127/127 [==============================] - ETA: 0s - loss: 0.4933 - accuracy: 0.8451\n",
            "Epoch 5: val_accuracy did not improve from 0.79584\n",
            "127/127 [==============================] - 32s 250ms/step - loss: 0.4933 - accuracy: 0.8451 - val_loss: 0.9387 - val_accuracy: 0.7562 - lr: 0.0010\n",
            "Epoch 6/30\n",
            "127/127 [==============================] - ETA: 0s - loss: 0.4282 - accuracy: 0.8645\n",
            "Epoch 6: ReduceLROnPlateau reducing learning rate to 0.0003000000142492354.\n",
            "\n",
            "Epoch 6: val_accuracy did not improve from 0.79584\n",
            "127/127 [==============================] - 32s 249ms/step - loss: 0.4282 - accuracy: 0.8645 - val_loss: 13.3397 - val_accuracy: 0.6779 - lr: 0.0010\n",
            "Epoch 7/30\n",
            "127/127 [==============================] - ETA: 0s - loss: 0.3021 - accuracy: 0.9058\n",
            "Epoch 7: val_accuracy improved from 0.79584 to 0.95144, saving model to DL_project_transfer_learning2.h5\n",
            "127/127 [==============================] - 42s 330ms/step - loss: 0.3021 - accuracy: 0.9058 - val_loss: 0.1696 - val_accuracy: 0.9514 - lr: 3.0000e-04\n",
            "Epoch 8/30\n",
            "127/127 [==============================] - ETA: 0s - loss: 0.2733 - accuracy: 0.9113\n",
            "Epoch 8: val_accuracy did not improve from 0.95144\n",
            "127/127 [==============================] - 31s 247ms/step - loss: 0.2733 - accuracy: 0.9113 - val_loss: 0.1772 - val_accuracy: 0.9465 - lr: 3.0000e-04\n",
            "Epoch 9/30\n",
            "127/127 [==============================] - ETA: 0s - loss: 0.2342 - accuracy: 0.9239\n",
            "Epoch 9: val_accuracy improved from 0.95144 to 0.95441, saving model to DL_project_transfer_learning2.h5\n",
            "127/127 [==============================] - 41s 326ms/step - loss: 0.2342 - accuracy: 0.9239 - val_loss: 0.1573 - val_accuracy: 0.9544 - lr: 3.0000e-04\n",
            "Epoch 10/30\n",
            "127/127 [==============================] - ETA: 0s - loss: 0.2283 - accuracy: 0.9289\n",
            "Epoch 10: val_accuracy improved from 0.95441 to 0.95937, saving model to DL_project_transfer_learning2.h5\n",
            "127/127 [==============================] - 40s 312ms/step - loss: 0.2283 - accuracy: 0.9289 - val_loss: 0.1408 - val_accuracy: 0.9594 - lr: 3.0000e-04\n",
            "Epoch 11/30\n",
            "127/127 [==============================] - ETA: 0s - loss: 0.2375 - accuracy: 0.9254\n",
            "Epoch 11: val_accuracy did not improve from 0.95937\n",
            "127/127 [==============================] - 32s 249ms/step - loss: 0.2375 - accuracy: 0.9254 - val_loss: 0.2302 - val_accuracy: 0.9286 - lr: 3.0000e-04\n",
            "Epoch 12/30\n",
            "127/127 [==============================] - ETA: 0s - loss: 0.2280 - accuracy: 0.9286\n",
            "Epoch 12: val_accuracy did not improve from 0.95937\n",
            "127/127 [==============================] - 32s 249ms/step - loss: 0.2280 - accuracy: 0.9286 - val_loss: 0.1943 - val_accuracy: 0.9356 - lr: 3.0000e-04\n",
            "Epoch 13/30\n",
            "127/127 [==============================] - ETA: 0s - loss: 0.1873 - accuracy: 0.9423\n",
            "Epoch 13: val_accuracy did not improve from 0.95937\n",
            "127/127 [==============================] - 32s 250ms/step - loss: 0.1873 - accuracy: 0.9423 - val_loss: 0.1639 - val_accuracy: 0.9495 - lr: 3.0000e-04\n",
            "Epoch 14/30\n",
            "127/127 [==============================] - ETA: 0s - loss: 0.2041 - accuracy: 0.9351\n",
            "Epoch 14: ReduceLROnPlateau reducing learning rate to 9.000000427477062e-05.\n",
            "\n",
            "Epoch 14: val_accuracy did not improve from 0.95937\n",
            "127/127 [==============================] - 32s 248ms/step - loss: 0.2041 - accuracy: 0.9351 - val_loss: 0.2421 - val_accuracy: 0.9336 - lr: 3.0000e-04\n",
            "Epoch 15/30\n",
            "127/127 [==============================] - ETA: 0s - loss: 0.1700 - accuracy: 0.9477\n",
            "Epoch 15: val_accuracy improved from 0.95937 to 0.96234, saving model to DL_project_transfer_learning2.h5\n",
            "127/127 [==============================] - 39s 310ms/step - loss: 0.1700 - accuracy: 0.9477 - val_loss: 0.1288 - val_accuracy: 0.9623 - lr: 9.0000e-05\n",
            "Epoch 16/30\n",
            "127/127 [==============================] - ETA: 0s - loss: 0.1582 - accuracy: 0.9507\n",
            "Epoch 16: val_accuracy did not improve from 0.96234\n",
            "127/127 [==============================] - 31s 247ms/step - loss: 0.1582 - accuracy: 0.9507 - val_loss: 0.1245 - val_accuracy: 0.9613 - lr: 9.0000e-05\n",
            "Epoch 17/30\n",
            "127/127 [==============================] - ETA: 0s - loss: 0.1518 - accuracy: 0.9576\n",
            "Epoch 17: val_accuracy did not improve from 0.96234\n",
            "127/127 [==============================] - 32s 251ms/step - loss: 0.1518 - accuracy: 0.9576 - val_loss: 0.1205 - val_accuracy: 0.9623 - lr: 9.0000e-05\n",
            "Epoch 18/30\n",
            "127/127 [==============================] - ETA: 0s - loss: 0.1400 - accuracy: 0.9633\n",
            "Epoch 18: val_accuracy did not improve from 0.96234\n",
            "127/127 [==============================] - 34s 271ms/step - loss: 0.1400 - accuracy: 0.9633 - val_loss: 0.1431 - val_accuracy: 0.9623 - lr: 9.0000e-05\n",
            "Epoch 19/30\n",
            "127/127 [==============================] - ETA: 0s - loss: 0.1513 - accuracy: 0.9552\n",
            "Epoch 19: val_accuracy did not improve from 0.96234\n",
            "127/127 [==============================] - 33s 259ms/step - loss: 0.1513 - accuracy: 0.9552 - val_loss: 0.1466 - val_accuracy: 0.9613 - lr: 9.0000e-05\n",
            "Epoch 20/30\n",
            "127/127 [==============================] - ETA: 0s - loss: 0.1419 - accuracy: 0.9581\n",
            "Epoch 20: val_accuracy did not improve from 0.96234\n",
            "127/127 [==============================] - 32s 254ms/step - loss: 0.1419 - accuracy: 0.9581 - val_loss: 0.1468 - val_accuracy: 0.9584 - lr: 9.0000e-05\n",
            "Epoch 21/30\n",
            "127/127 [==============================] - ETA: 0s - loss: 0.1372 - accuracy: 0.9604\n",
            "Epoch 21: ReduceLROnPlateau reducing learning rate to 2.700000040931627e-05.\n",
            "\n",
            "Epoch 21: val_accuracy improved from 0.96234 to 0.96531, saving model to DL_project_transfer_learning2.h5\n",
            "127/127 [==============================] - 42s 333ms/step - loss: 0.1372 - accuracy: 0.9604 - val_loss: 0.1236 - val_accuracy: 0.9653 - lr: 9.0000e-05\n",
            "Epoch 22/30\n",
            "127/127 [==============================] - ETA: 0s - loss: 0.1269 - accuracy: 0.9631\n",
            "Epoch 22: val_accuracy did not improve from 0.96531\n",
            "127/127 [==============================] - 32s 252ms/step - loss: 0.1269 - accuracy: 0.9631 - val_loss: 0.1323 - val_accuracy: 0.9613 - lr: 2.7000e-05\n",
            "Epoch 23/30\n",
            "127/127 [==============================] - ETA: 0s - loss: 0.1260 - accuracy: 0.9633\n",
            "Epoch 23: val_accuracy did not improve from 0.96531\n",
            "127/127 [==============================] - 32s 250ms/step - loss: 0.1260 - accuracy: 0.9633 - val_loss: 0.1258 - val_accuracy: 0.9633 - lr: 2.7000e-05\n",
            "Epoch 24/30\n",
            "127/127 [==============================] - ETA: 0s - loss: 0.1175 - accuracy: 0.9646\n",
            "Epoch 24: val_accuracy improved from 0.96531 to 0.96630, saving model to DL_project_transfer_learning2.h5\n",
            "127/127 [==============================] - 42s 328ms/step - loss: 0.1175 - accuracy: 0.9646 - val_loss: 0.1202 - val_accuracy: 0.9663 - lr: 2.7000e-05\n",
            "Epoch 25/30\n",
            "127/127 [==============================] - ETA: 0s - loss: 0.1241 - accuracy: 0.9616\n",
            "Epoch 25: val_accuracy did not improve from 0.96630\n",
            "127/127 [==============================] - 31s 242ms/step - loss: 0.1241 - accuracy: 0.9616 - val_loss: 0.1250 - val_accuracy: 0.9623 - lr: 2.7000e-05\n",
            "Epoch 26/30\n",
            "127/127 [==============================] - ETA: 0s - loss: 0.1087 - accuracy: 0.9670\n",
            "Epoch 26: val_accuracy did not improve from 0.96630\n",
            "127/127 [==============================] - 31s 243ms/step - loss: 0.1087 - accuracy: 0.9670 - val_loss: 0.1229 - val_accuracy: 0.9623 - lr: 2.7000e-05\n",
            "Epoch 27/30\n",
            "127/127 [==============================] - ETA: 0s - loss: 0.1148 - accuracy: 0.9661\n",
            "Epoch 27: val_accuracy did not improve from 0.96630\n",
            "127/127 [==============================] - 36s 281ms/step - loss: 0.1148 - accuracy: 0.9661 - val_loss: 0.1284 - val_accuracy: 0.9613 - lr: 2.7000e-05\n",
            "Epoch 28/30\n",
            "127/127 [==============================] - ETA: 0s - loss: 0.1090 - accuracy: 0.9646\n",
            "Epoch 28: ReduceLROnPlateau reducing learning rate to 8.100000013655517e-06.\n",
            "\n",
            "Epoch 28: val_accuracy did not improve from 0.96630\n",
            "127/127 [==============================] - 32s 255ms/step - loss: 0.1090 - accuracy: 0.9646 - val_loss: 0.1340 - val_accuracy: 0.9633 - lr: 2.7000e-05\n",
            "Epoch 29/30\n",
            "127/127 [==============================] - ETA: 0s - loss: 0.1092 - accuracy: 0.9675\n",
            "Epoch 29: val_accuracy did not improve from 0.96630\n",
            "127/127 [==============================] - 34s 271ms/step - loss: 0.1092 - accuracy: 0.9675 - val_loss: 0.1239 - val_accuracy: 0.9653 - lr: 8.1000e-06\n",
            "Epoch 30/30\n",
            "127/127 [==============================] - ETA: 0s - loss: 0.1214 - accuracy: 0.9643\n",
            "Epoch 30: val_accuracy did not improve from 0.96630\n",
            "127/127 [==============================] - 35s 274ms/step - loss: 0.1214 - accuracy: 0.9643 - val_loss: 0.1238 - val_accuracy: 0.9663 - lr: 8.1000e-06\n"
          ]
        }
      ],
      "source": [
        "train_generator.fit(X_train)\n",
        "vgg19_history = model.fit_generator(train_generator.flow(X_train, y_train, batch_size = 32),\n",
        "                              epochs = 30,\n",
        "                              validation_data = (X_val, y_val),\n",
        "                              verbose = 1,\n",
        "                              callbacks = [reduce_lr, tensorboard, checkpoint, ])"
      ]
    },
    {
      "cell_type": "code",
      "execution_count": 22,
      "metadata": {
        "id": "q4KoP1QzHMqL"
      },
      "outputs": [],
      "source": [
        "# Save the Model\n",
        "model.save('VGG19_Fine_Tuning.h5')"
      ]
    },
    {
      "cell_type": "code",
      "execution_count": 23,
      "metadata": {
        "colab": {
          "base_uri": "https://localhost:8080/",
          "height": 607
        },
        "id": "EqWpDB1VMfnO",
        "outputId": "6ee86e75-9934-48f1-95cd-7ecd0dd8b7cc"
      },
      "outputs": [
        {
          "data": {
            "image/png": "[encoded data removed]",
            "text/plain": [
              "<Figure size 1200x600 with 2 Axes>"
            ]
          },
          "metadata": {},
          "output_type": "display_data"
        }
      ],
      "source": [
        "# Displaying curves of loss and accuracy during training\n",
        "acc =vgg19_history.history['accuracy']\n",
        "val_acc = vgg19_history.history['val_accuracy']\n",
        "loss = vgg19_history.history['loss']\n",
        "val_loss = vgg19_history.history['val_loss']\n",
        "\n",
        "epochs = range(1, len(acc) + 1)\n",
        "\n",
        "# Plot accuracy on the left side\n",
        "plt.figure(figsize=(12, 6))\n",
        "\n",
        "plt.subplot(1, 2, 1)\n",
        "plt.plot(epochs, acc, label='Training Accuracy', marker='o')\n",
        "plt.plot(epochs, val_acc, label='Validation Accuracy', marker='o', linestyle='dashed')\n",
        "plt.title('Training and Validation Accuracy')\n",
        "plt.xlabel('Epochs')\n",
        "plt.ylabel('Accuracy')\n",
        "plt.legend()\n",
        "\n",
        "# Plot loss on the right side\n",
        "plt.subplot(1, 2, 2)\n",
        "plt.plot(epochs, loss, label='Training Loss', marker='o')\n",
        "plt.plot(epochs, val_loss, label='Validation Loss', marker='o', linestyle='dashed')\n",
        "plt.title('Training and Validation Loss')\n",
        "plt.xlabel('Epochs')\n",
        "plt.ylabel('Loss')\n",
        "plt.legend()\n",
        "\n",
        "plt.tight_layout()\n",
        "plt.show()"
      ]
    },
    {
      "cell_type": "code",
      "execution_count": 24,
      "metadata": {
        "colab": {
          "base_uri": "https://localhost:8080/",
          "height": 542
        },
        "id": "IyLmRzY6_1Dz",
        "outputId": "be119476-bd7c-4043-d272-9854c59e27df"
      },
      "outputs": [
        {
          "data": {
            "text/html": [
              "<html>\n",
              "<head><meta charset=\"utf-8\" /></head>\n",
              "<body>\n",
              "    <div>            <script src=\"https://cdnjs.cloudflare.com/ajax/libs/mathjax/2.7.5/MathJax.js?config=TeX-AMS-MML_SVG\"></script><script type=\"text/javascript\">if (window.MathJax && window.MathJax.Hub && window.MathJax.Hub.Config) {window.MathJax.Hub.Config({SVG: {font: \"STIX-Web\"}});}</script>                <script type=\"text/javascript\">window.PlotlyConfig = {MathJaxConfig: 'local'};</script>\n",
              "        <script charset=\"utf-8\" src=\"https://cdn.plot.ly/plotly-2.24.1.min.js\"></script>                <div id=\"0084e90a-eda4-44d9-b52a-c03a2572eccb\" class=\"plotly-graph-div\" style=\"height:525px; width:100%;\"></div>            <script type=\"text/javascript\">                                    window.PLOTLYENV=window.PLOTLYENV || {};                                    if (document.getElementById(\"0084e90a-eda4-44d9-b52a-c03a2572eccb\")) {                    Plotly.newPlot(                        \"0084e90a-eda4-44d9-b52a-c03a2572eccb\",                        [{\"marker\":{\"angleref\":\"previous\",\"size\":9,\"symbol\":\"circle\"},\"mode\":\"lines+markers\",\"name\":\"Validation_loss\",\"y\":[13.694243431091309,0.6390803456306458,1.6106082201004028,0.746431291103363,0.9386821389198303,13.339681625366211,0.16962188482284546,0.17716103792190552,0.1573195457458496,0.14079666137695312,0.230211079120636,0.19433698058128357,0.16389934718608856,0.2421034723520279,0.12880732119083405,0.12446627765893936,0.12048482149839401,0.14307518303394318,0.1466009020805359,0.14681626856327057,0.1236381009221077,0.13232523202896118,0.12575410306453705,0.12024722993373871,0.12499944120645523,0.12293402850627899,0.12838129699230194,0.13400062918663025,0.12389886379241943,0.12382814288139343],\"type\":\"scatter\",\"xaxis\":\"x\",\"yaxis\":\"y\"},{\"marker\":{\"angleref\":\"previous\",\"size\":9,\"symbol\":\"circle\"},\"mode\":\"lines+markers\",\"name\":\"Training_loss\",\"y\":[1.6698988676071167,1.114825963973999,0.7905362844467163,0.6059966087341309,0.4932658076286316,0.4281696379184723,0.3020894527435303,0.2732659876346588,0.23419073224067688,0.22833827137947083,0.2375279664993286,0.2280408889055252,0.1872926652431488,0.20411206781864166,0.17002379894256592,0.15820416808128357,0.15182258188724518,0.13997586071491241,0.1513078510761261,0.1418703943490982,0.13721762597560883,0.12687627971172333,0.12600955367088318,0.11745359003543854,0.12411953508853912,0.10873967409133911,0.11483356356620789,0.10901714116334915,0.1092141792178154,0.12144886702299118],\"type\":\"scatter\",\"xaxis\":\"x\",\"yaxis\":\"y\"},{\"marker\":{\"angleref\":\"previous\",\"size\":9,\"symbol\":\"circle\"},\"mode\":\"lines+markers\",\"name\":\"Validation_accuracy\",\"y\":[0.1318136751651764,0.7958374619483948,0.6174430251121521,0.7908820509910583,0.7561942338943481,0.6778988838195801,0.9514370560646057,0.9464816451072693,0.9544103145599365,0.959365725517273,0.928642213344574,0.935579776763916,0.9494549036026001,0.9335976243019104,0.962338924407959,0.9613478779792786,0.962338924407959,0.962338924407959,0.9613478779792786,0.9583746194839478,0.9653121829032898,0.9613478779792786,0.9633300304412842,0.966303288936615,0.962338924407959,0.962338924407959,0.9613478779792786,0.9633300304412842,0.9653121829032898,0.966303288936615],\"type\":\"scatter\",\"xaxis\":\"x\",\"yaxis\":\"y2\"},{\"marker\":{\"angleref\":\"previous\",\"size\":9,\"symbol\":\"circle\"},\"mode\":\"lines+markers\",\"name\":\"Training_accuracy\",\"y\":[0.3706640303134918,0.5906838178634644,0.7329038381576538,0.8069871068000793,0.845143735408783,0.8644697666168213,0.9058473706245422,0.9112983345985413,0.9239345788955688,0.9288899898529053,0.9254212379455566,0.928642213344574,0.9422695636749268,0.9350842237472534,0.9477205276489258,0.9506937265396118,0.9576312899589539,0.9633300304412842,0.9551536440849304,0.9581268429756165,0.9603567719459534,0.9630822539329529,0.9633300304412842,0.9645688533782959,0.9615956544876099,0.9670465588569641,0.9660555124282837,0.9645688533782959,0.9675421118736267,0.9643211364746094],\"type\":\"scatter\",\"xaxis\":\"x\",\"yaxis\":\"y2\"}],                        {\"template\":{\"data\":{\"histogram2dcontour\":[{\"type\":\"histogram2dcontour\",\"colorbar\":{\"outlinewidth\":0,\"ticks\":\"\"},\"colorscale\":[[0.0,\"#0d0887\"],[0.1111111111111111,\"#46039f\"],[0.2222222222222222,\"#7201a8\"],[0.3333333333333333,\"#9c179e\"],[0.4444444444444444,\"#bd3786\"],[0.5555555555555556,\"#d8576b\"],[0.6666666666666666,\"#ed7953\"],[0.7777777777777778,\"#fb9f3a\"],[0.8888888888888888,\"#fdca26\"],[1.0,\"#f0f921\"]]}],\"choropleth\":[{\"type\":\"choropleth\",\"colorbar\":{\"outlinewidth\":0,\"ticks\":\"\"}}],\"histogram2d\":[{\"type\":\"histogram2d\",\"colorbar\":{\"outlinewidth\":0,\"ticks\":\"\"},\"colorscale\":[[0.0,\"#0d0887\"],[0.1111111111111111,\"#46039f\"],[0.2222222222222222,\"#7201a8\"],[0.3333333333333333,\"#9c179e\"],[0.4444444444444444,\"#bd3786\"],[0.5555555555555556,\"#d8576b\"],[0.6666666666666666,\"#ed7953\"],[0.7777777777777778,\"#fb9f3a\"],[0.8888888888888888,\"#fdca26\"],[1.0,\"#f0f921\"]]}],\"heatmap\":[{\"type\":\"heatmap\",\"colorbar\":{\"outlinewidth\":0,\"ticks\":\"\"},\"colorscale\":[[0.0,\"#0d0887\"],[0.1111111111111111,\"#46039f\"],[0.2222222222222222,\"#7201a8\"],[0.3333333333333333,\"#9c179e\"],[0.4444444444444444,\"#bd3786\"],[0.5555555555555556,\"#d8576b\"],[0.6666666666666666,\"#ed7953\"],[0.7777777777777778,\"#fb9f3a\"],[0.8888888888888888,\"#fdca26\"],[1.0,\"#f0f921\"]]}],\"heatmapgl\":[{\"type\":\"heatmapgl\",\"colorbar\":{\"outlinewidth\":0,\"ticks\":\"\"},\"colorscale\":[[0.0,\"#0d0887\"],[0.1111111111111111,\"#46039f\"],[0.2222222222222222,\"#7201a8\"],[0.3333333333333333,\"#9c179e\"],[0.4444444444444444,\"#bd3786\"],[0.5555555555555556,\"#d8576b\"],[0.6666666666666666,\"#ed7953\"],[0.7777777777777778,\"#fb9f3a\"],[0.8888888888888888,\"#fdca26\"],[1.0,\"#f0f921\"]]}],\"contourcarpet\":[{\"type\":\"contourcarpet\",\"colorbar\":{\"outlinewidth\":0,\"ticks\":\"\"}}],\"contour\":[{\"type\":\"contour\",\"colorbar\":{\"outlinewidth\":0,\"ticks\":\"\"},\"colorscale\":[[0.0,\"#0d0887\"],[0.1111111111111111,\"#46039f\"],[0.2222222222222222,\"#7201a8\"],[0.3333333333333333,\"#9c179e\"],[0.4444444444444444,\"#bd3786\"],[0.5555555555555556,\"#d8576b\"],[0.6666666666666666,\"#ed7953\"],[0.7777777777777778,\"#fb9f3a\"],[0.8888888888888888,\"#fdca26\"],[1.0,\"#f0f921\"]]}],\"surface\":[{\"type\":\"surface\",\"colorbar\":{\"outlinewidth\":0,\"ticks\":\"\"},\"colorscale\":[[0.0,\"#0d0887\"],[0.1111111111111111,\"#46039f\"],[0.2222222222222222,\"#7201a8\"],[0.3333333333333333,\"#9c179e\"],[0.4444444444444444,\"#bd3786\"],[0.5555555555555556,\"#d8576b\"],[0.6666666666666666,\"#ed7953\"],[0.7777777777777778,\"#fb9f3a\"],[0.8888888888888888,\"#fdca26\"],[1.0,\"#f0f921\"]]}],\"mesh3d\":[{\"type\":\"mesh3d\",\"colorbar\":{\"outlinewidth\":0,\"ticks\":\"\"}}],\"scatter\":[{\"fillpattern\":{\"fillmode\":\"overlay\",\"size\":10,\"solidity\":0.2},\"type\":\"scatter\"}],\"parcoords\":[{\"type\":\"parcoords\",\"line\":{\"colorbar\":{\"outlinewidth\":0,\"ticks\":\"\"}}}],\"scatterpolargl\":[{\"type\":\"scatterpolargl\",\"marker\":{\"colorbar\":{\"outlinewidth\":0,\"ticks\":\"\"}}}],\"bar\":[{\"error_x\":{\"color\":\"#2a3f5f\"},\"error_y\":{\"color\":\"#2a3f5f\"},\"marker\":{\"line\":{\"color\":\"#E5ECF6\",\"width\":0.5},\"pattern\":{\"fillmode\":\"overlay\",\"size\":10,\"solidity\":0.2}},\"type\":\"bar\"}],\"scattergeo\":[{\"type\":\"scattergeo\",\"marker\":{\"colorbar\":{\"outlinewidth\":0,\"ticks\":\"\"}}}],\"scatterpolar\":[{\"type\":\"scatterpolar\",\"marker\":{\"colorbar\":{\"outlinewidth\":0,\"ticks\":\"\"}}}],\"histogram\":[{\"marker\":{\"pattern\":{\"fillmode\":\"overlay\",\"size\":10,\"solidity\":0.2}},\"type\":\"histogram\"}],\"scattergl\":[{\"type\":\"scattergl\",\"marker\":{\"colorbar\":{\"outlinewidth\":0,\"ticks\":\"\"}}}],\"scatter3d\":[{\"type\":\"scatter3d\",\"line\":{\"colorbar\":{\"outlinewidth\":0,\"ticks\":\"\"}},\"marker\":{\"colorbar\":{\"outlinewidth\":0,\"ticks\":\"\"}}}],\"scattermapbox\":[{\"type\":\"scattermapbox\",\"marker\":{\"colorbar\":{\"outlinewidth\":0,\"ticks\":\"\"}}}],\"scatterternary\":[{\"type\":\"scatterternary\",\"marker\":{\"colorbar\":{\"outlinewidth\":0,\"ticks\":\"\"}}}],\"scattercarpet\":[{\"type\":\"scattercarpet\",\"marker\":{\"colorbar\":{\"outlinewidth\":0,\"ticks\":\"\"}}}],\"carpet\":[{\"aaxis\":{\"endlinecolor\":\"#2a3f5f\",\"gridcolor\":\"white\",\"linecolor\":\"white\",\"minorgridcolor\":\"white\",\"startlinecolor\":\"#2a3f5f\"},\"baxis\":{\"endlinecolor\":\"#2a3f5f\",\"gridcolor\":\"white\",\"linecolor\":\"white\",\"minorgridcolor\":\"white\",\"startlinecolor\":\"#2a3f5f\"},\"type\":\"carpet\"}],\"table\":[{\"cells\":{\"fill\":{\"color\":\"#EBF0F8\"},\"line\":{\"color\":\"white\"}},\"header\":{\"fill\":{\"color\":\"#C8D4E3\"},\"line\":{\"color\":\"white\"}},\"type\":\"table\"}],\"barpolar\":[{\"marker\":{\"line\":{\"color\":\"#E5ECF6\",\"width\":0.5},\"pattern\":{\"fillmode\":\"overlay\",\"size\":10,\"solidity\":0.2}},\"type\":\"barpolar\"}],\"pie\":[{\"automargin\":true,\"type\":\"pie\"}]},\"layout\":{\"autotypenumbers\":\"strict\",\"colorway\":[\"#636efa\",\"#EF553B\",\"#00cc96\",\"#ab63fa\",\"#FFA15A\",\"#19d3f3\",\"#FF6692\",\"#B6E880\",\"#FF97FF\",\"#FECB52\"],\"font\":{\"color\":\"#2a3f5f\"},\"hovermode\":\"closest\",\"hoverlabel\":{\"align\":\"left\"},\"paper_bgcolor\":\"white\",\"plot_bgcolor\":\"#E5ECF6\",\"polar\":{\"bgcolor\":\"#E5ECF6\",\"angularaxis\":{\"gridcolor\":\"white\",\"linecolor\":\"white\",\"ticks\":\"\"},\"radialaxis\":{\"gridcolor\":\"white\",\"linecolor\":\"white\",\"ticks\":\"\"}},\"ternary\":{\"bgcolor\":\"#E5ECF6\",\"aaxis\":{\"gridcolor\":\"white\",\"linecolor\":\"white\",\"ticks\":\"\"},\"baxis\":{\"gridcolor\":\"white\",\"linecolor\":\"white\",\"ticks\":\"\"},\"caxis\":{\"gridcolor\":\"white\",\"linecolor\":\"white\",\"ticks\":\"\"}},\"coloraxis\":{\"colorbar\":{\"outlinewidth\":0,\"ticks\":\"\"}},\"colorscale\":{\"sequential\":[[0.0,\"#0d0887\"],[0.1111111111111111,\"#46039f\"],[0.2222222222222222,\"#7201a8\"],[0.3333333333333333,\"#9c179e\"],[0.4444444444444444,\"#bd3786\"],[0.5555555555555556,\"#d8576b\"],[0.6666666666666666,\"#ed7953\"],[0.7777777777777778,\"#fb9f3a\"],[0.8888888888888888,\"#fdca26\"],[1.0,\"#f0f921\"]],\"sequentialminus\":[[0.0,\"#0d0887\"],[0.1111111111111111,\"#46039f\"],[0.2222222222222222,\"#7201a8\"],[0.3333333333333333,\"#9c179e\"],[0.4444444444444444,\"#bd3786\"],[0.5555555555555556,\"#d8576b\"],[0.6666666666666666,\"#ed7953\"],[0.7777777777777778,\"#fb9f3a\"],[0.8888888888888888,\"#fdca26\"],[1.0,\"#f0f921\"]],\"diverging\":[[0,\"#8e0152\"],[0.1,\"#c51b7d\"],[0.2,\"#de77ae\"],[0.3,\"#f1b6da\"],[0.4,\"#fde0ef\"],[0.5,\"#f7f7f7\"],[0.6,\"#e6f5d0\"],[0.7,\"#b8e186\"],[0.8,\"#7fbc41\"],[0.9,\"#4d9221\"],[1,\"#276419\"]]},\"xaxis\":{\"gridcolor\":\"white\",\"linecolor\":\"white\",\"ticks\":\"\",\"title\":{\"standoff\":15},\"zerolinecolor\":\"white\",\"automargin\":true,\"zerolinewidth\":2},\"yaxis\":{\"gridcolor\":\"white\",\"linecolor\":\"white\",\"ticks\":\"\",\"title\":{\"standoff\":15},\"zerolinecolor\":\"white\",\"automargin\":true,\"zerolinewidth\":2},\"scene\":{\"xaxis\":{\"backgroundcolor\":\"#E5ECF6\",\"gridcolor\":\"white\",\"linecolor\":\"white\",\"showbackground\":true,\"ticks\":\"\",\"zerolinecolor\":\"white\",\"gridwidth\":2},\"yaxis\":{\"backgroundcolor\":\"#E5ECF6\",\"gridcolor\":\"white\",\"linecolor\":\"white\",\"showbackground\":true,\"ticks\":\"\",\"zerolinecolor\":\"white\",\"gridwidth\":2},\"zaxis\":{\"backgroundcolor\":\"#E5ECF6\",\"gridcolor\":\"white\",\"linecolor\":\"white\",\"showbackground\":true,\"ticks\":\"\",\"zerolinecolor\":\"white\",\"gridwidth\":2}},\"shapedefaults\":{\"line\":{\"color\":\"#2a3f5f\"}},\"annotationdefaults\":{\"arrowcolor\":\"#2a3f5f\",\"arrowhead\":0,\"arrowwidth\":1},\"geo\":{\"bgcolor\":\"white\",\"landcolor\":\"#E5ECF6\",\"subunitcolor\":\"white\",\"showland\":true,\"showlakes\":true,\"lakecolor\":\"white\"},\"title\":{\"x\":0.05},\"mapbox\":{\"style\":\"light\"}}},\"xaxis\":{\"anchor\":\"y\",\"domain\":[0.0,0.94],\"title\":{\"text\":\"Epoch\"}},\"yaxis\":{\"anchor\":\"x\",\"domain\":[0.0,1.0],\"title\":{\"text\":\"\\u003cb\\u003eLoss\\u003c\\u002fb\\u003e\"}},\"yaxis2\":{\"anchor\":\"x\",\"overlaying\":\"y\",\"side\":\"right\",\"title\":{\"text\":\"\\u003cb\\u003eAccuracy\\u003c\\u002fb\\u003e\"}},\"title\":{\"text\":\"Loss\\u002fAccuracy of CNN Model\"}},                        {\"responsive\": true}                    ).then(function(){\n",
              "                            \n",
              "var gd = document.getElementById('0084e90a-eda4-44d9-b52a-c03a2572eccb');\n",
              "var x = new MutationObserver(function (mutations, observer) {{\n",
              "        var display = window.getComputedStyle(gd).display;\n",
              "        if (!display || display === 'none') {{\n",
              "            console.log([gd, 'removed!']);\n",
              "            Plotly.purge(gd);\n",
              "            observer.disconnect();\n",
              "        }}\n",
              "}});\n",
              "\n",
              "// Listen for the removal of the full notebook cells\n",
              "var notebookContainer = gd.closest('#notebook-container');\n",
              "if (notebookContainer) {{\n",
              "    x.observe(notebookContainer, {childList: true});\n",
              "}}\n",
              "\n",
              "// Listen for the clearing of the current output cell\n",
              "var outputEl = gd.closest('.output');\n",
              "if (outputEl) {{\n",
              "    x.observe(outputEl, {childList: true});\n",
              "}}\n",
              "\n",
              "                        })                };                            </script>        </div>\n",
              "</body>\n",
              "</html>"
            ]
          },
          "metadata": {},
          "output_type": "display_data"
        }
      ],
      "source": [
        "import plotly.graph_objects as go\n",
        "from plotly.subplots import make_subplots\n",
        "\n",
        "# Create figure with secondary y-axis\n",
        "fig = make_subplots(specs=[[{\"secondary_y\": True}]])\n",
        "\n",
        "# Add traces\n",
        "fig.add_trace(\n",
        "    go.Scatter( y=vgg19_history.history['val_loss'], mode=\"lines+markers\",\n",
        "            marker=dict(\n",
        "                symbol=\"circle\",\n",
        "                size=9,\n",
        "                angleref=\"previous\",\n",
        "            ), name=\"Validation_loss\"),\n",
        "    secondary_y=False,\n",
        ")\n",
        "\n",
        "fig.add_trace(\n",
        "    go.Scatter( y=vgg19_history.history['loss'], mode=\"lines+markers\",\n",
        "            marker=dict(\n",
        "                symbol=\"circle\",\n",
        "                size=9,\n",
        "                angleref=\"previous\",\n",
        "            ), name=\"Training_loss\"),\n",
        "    secondary_y=False,\n",
        ")\n",
        "\n",
        "fig.add_trace(\n",
        "    go.Scatter( y=vgg19_history.history['val_accuracy'], mode=\"lines+markers\",\n",
        "            marker=dict(\n",
        "                symbol=\"circle\",\n",
        "                size=9,\n",
        "                angleref=\"previous\",\n",
        "            ), name=\"Validation_accuracy\"),\n",
        "    secondary_y=True,\n",
        ")\n",
        "\n",
        "fig.add_trace(\n",
        "    go.Scatter( y=vgg19_history.history['accuracy'], mode=\"lines+markers\",\n",
        "            marker=dict(\n",
        "                symbol=\"circle\",\n",
        "                size=9,\n",
        "                angleref=\"previous\",\n",
        "            ), name=\"Training_accuracy\"),\n",
        "    secondary_y=True,\n",
        ")\n",
        "\n",
        "# Add figure title\n",
        "fig.update_layout(\n",
        "    title_text=\"Loss/Accuracy of CNN Model\"\n",
        ")\n",
        "\n",
        "# Set x-axis title\n",
        "fig.update_xaxes(title_text=\"Epoch\")\n",
        "\n",
        "# Set y-axes titles\n",
        "fig.update_yaxes(title_text=\"<b>Loss</b>\", secondary_y=False)\n",
        "fig.update_yaxes(title_text=\"<b>Accuracy</b>\", secondary_y=True)\n",
        "\n",
        "fig.show()"
      ]
    },
    {
      "cell_type": "markdown",
      "metadata": {},
      "source": [
        "## Model Evaluation\n",
        "We evaluate the model on the test dataset and generate a classification report and confusion matrix."
      ]
    },
    {
      "cell_type": "code",
      "execution_count": null,
      "metadata": {
        "colab": {
          "base_uri": "https://localhost:8080/"
        },
        "id": "I2tGnvusAUFU",
        "outputId": "a7b209f8-79b9-42b3-c2e2-944063434b54"
      },
      "outputs": [
        {
          "name": "stdout",
          "output_type": "stream",
          "text": [
            "40/40 [==============================] - 6s 135ms/step\n"
          ]
        }
      ],
      "source": [
        "# Evaluate the model  --> first method\n",
        "y_pred = model.predict(X_test)\n",
        "y_pred = np.argmax(y_pred, axis = 1)\n",
        "y_real = np.argmax(y_test, axis = 1)\n",
        "\n",
        "# display result of evaluate the model  --> first method\n",
        "test_loss, test_acc = model.evaluate(X_test, y_test)\n",
        "print(\"Test accuracy: {:.2f}%\".format(test_acc * 100))\n",
        "print(f\"Test loss: {test_loss: 0.2f}\")\n",
        "\n",
        "# display result of evaluate the model  --> first method\n",
        "accuracy = np.sum(y_pred == y_real) / len(y_test)\n",
        "print(\"Test accuracy: {:.2f}%\".format(accuracy * 100))"
      ]
    },
    {
      "cell_type": "code",
      "execution_count": null,
      "metadata": {
        "id": "bd9NfJatAdCW"
      },
      "outputs": [],
      "source": [
        "print(classification_report(y_real, y_pred, target_names=class_names))"
      ]
    },
    {
      "cell_type": "markdown",
      "metadata": {},
      "source": [
        "## Confusion Matrix\n",
        "We visualize the confusion matrix to understand the model's performance across different classes."
      ]
    },
    {
      "cell_type": "code",
      "execution_count": null,
      "metadata": {
        "id": "0TBm9tOHAfgB"
      },
      "outputs": [],
      "source": [
        "# display confusion matrix\n",
        "fig, ax = plt.subplots(1,1,figsize=(14, 6))\n",
        "sns.heatmap(confusion_matrix(y_real, y_pred), xticklabels=class_names, yticklabels=class_names,annot=True, linewidths=2, linecolor='white', ax=ax)\n",
        "fig.text(s=\"Confusion Matrix\", size=18,fontweight='bold', fontname='DejaVu Sans', y=0.88,x=0.30,alpha=0.8)\n",
        "bottom, top = plt.ylim()\n",
        "plt.ylim(bottom + 0.5, top - 0.5)\n",
        "plt.xlabel('Predicted', color='blue')\n",
        "plt.ylabel('Real', color='green')\n",
        "plt.xticks(rotation=45)\n",
        "plt.yticks(rotation=0)\n",
        "plt.show()\n",
        "# plt.show()"
      ]
    },
    {
      "cell_type": "markdown",
      "metadata": {},
      "source": [
        "## Conclusion\n",
        "In this project, we successfully fine-tuned the VGG19 model for fashion image classification. This approach allowed us to leverage the pre-trained model's features while adapting it to our specific dataset. The model demonstrated promising accuracy, and the evaluation metrics provide valuable insights into areas for further improvement and optimization."
      ]
    }
  ],
  "metadata": {
    "accelerator": "GPU",
    "colab": {
      "gpuType": "T4",
      "provenance": []
    },
    "kernelspec": {
      "display_name": "Python 3",
      "name": "python3"
    },
    "language_info": {
      "name": "python"
    }
  },
  "nbformat": 4,
  "nbformat_minor": 0
}
