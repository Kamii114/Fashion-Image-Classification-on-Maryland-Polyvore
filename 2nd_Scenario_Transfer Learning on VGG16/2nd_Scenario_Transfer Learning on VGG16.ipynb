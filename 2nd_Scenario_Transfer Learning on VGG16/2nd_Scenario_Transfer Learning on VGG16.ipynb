{
  "cells": [
    {
      "cell_type": "markdown",
      "metadata": {
        "id": "yhoZDKQiF9On"
      },
      "source": [
        "# Fashion Image Classification on Maryland Polyvore: Second Scenario - Transfer Learning on VGG16\n",
        "\n",
        "## Authors\n",
        "- Kamand Kalashi\n",
        "- Sajjad Saed\n",
        "\n",
        "\n",
        "## Project Overview\n",
        "In this project, we utilize transfer learning to enhance image classification capabilities within the fashion domain, specifically leveraging the VGG16 architecture. Our primary objective is to classify fashion images into distinct categories using the Maryland Fashion Dataset, which can be accessed [here](https://github.com/AemikaChow/AiDLab-fAshIon-Data/blob/main/Datasets/cleaned-maryland.md).\n",
        "\n",
        "### Dataset\n",
        "The dataset comprises a rich variety of fashion images, each organized into predefined classes. This diversity provides the necessary foundation for the transfer learning model to learn and generalize the visual characteristics of different fashion items effectively.\n",
        "\n",
        "### Methodology\n",
        "#### 1. Environment Setup\n",
        "We begin by importing essential libraries, including TensorFlow and Keras, to facilitate the building and training of the transfer learning model. Additional libraries for data manipulation, image processing, and visualization are included to streamline our workflow.\n",
        "\n",
        "#### 2. Data Preparation\n",
        "Data preparation is a vital step in any machine learning project. We mount Google Drive to access our dataset efficiently and retrieve the class names, providing an overview of the categories we will work with. Sample images from each class are displayed to visualize the dataset's diversity.\n",
        "\n",
        "#### 3. Image Preprocessing\n",
        "To enable effective processing by the VGG16 model, all images are resized to a uniform dimension of 224x224 pixels. We also ensure that pixel values are normalized to the [0, 1] range, which is crucial for optimal performance during training.\n",
        "\n",
        "#### 4. Data Augmentation\n",
        "To improve model robustness and mitigate overfitting, data augmentation techniques are applied. These techniques include random rotations, shifts, and flips, which artificially increase the variability of the training dataset.\n",
        "\n",
        "#### 5. Model Architecture\n",
        "We leverage the pre-trained VGG16 model as our base architecture, setting its layers to non-trainable to retain the learned features from the ImageNet dataset. A global average pooling layer is added, followed by dropout and dense layers to classify the images into their respective categories.\n",
        "\n",
        "#### 6. Model Compilation\n",
        "The model is compiled using categorical crossentropy as the loss function and the Adam optimizer. Accuracy is monitored as the primary performance metric, offering insights into the model's classification capabilities.\n",
        "\n",
        "#### 7. Model Training\n",
        "The model is trained on the training dataset, while the validation dataset allows us to monitor performance and prevent overfitting. We utilize callbacks like EarlyStopping and ReduceLROnPlateau to optimize the training process.\n",
        "\n",
        "#### 8. Model Evaluation\n",
        "After training, the model's performance is evaluated on a separate test set. Metrics such as accuracy, loss, and a classification report, which includes precision, recall, and F1 scores for each class, are computed. Additionally, a confusion matrix is visualized to identify misclassifications, aiding in further model refinement.\n",
        "\n",
        "### Conclusion\n",
        "This project illustrates a comprehensive approach to utilizing transfer learning with the VGG16 model for image classification. By following this structured methodology, we aim to develop a robust model capable of accurately classifying fashion images. Insights gained from the evaluation phase will inform future enhancements and iterations of the model.\n"
      ]
    },
    {
      "cell_type": "markdown",
      "metadata": {},
      "source": [
        "## Importing Required Libraries\n",
        "We import the necessary libraries for data processing, image manipulation, model building, and evaluation."
      ]
    },
    {
      "cell_type": "code",
      "execution_count": 1,
      "metadata": {
        "id": "SUSzu3phPAwk"
      },
      "outputs": [],
      "source": [
        "# Importing required libraries\n",
        "# Feature extraction and feature selection\n",
        "import numpy as np\n",
        "\n",
        "# imqage processing and visualization\n",
        "import cv2\n",
        "import tqdm as tqdm\n",
        "from PIL import Image\n",
        "import os\n",
        "import matplotlib.pyplot as plt\n",
        "import seaborn as sns\n",
        "\n",
        "# Data training and create cnn model\n",
        "import tensorflow as tf\n",
        "from tensorflow.keras.preprocessing.image import ImageDataGenerator\n",
        "from sklearn.utils import shuffle\n",
        "from sklearn.model_selection import train_test_split\n",
        "from keras.models import Sequential\n",
        "from keras.models import Model\n",
        "from tensorflow.keras.applications import VGG16, VGG19, EfficientNetB4\n",
        "from keras.layers import Conv2D, MaxPool2D, Dropout, Dense, MaxPooling2D, GlobalAveragePooling2D, Flatten\n",
        "from keras.utils import to_categorical\n",
        "from tensorflow.keras.optimizers import Adam\n",
        "from sklearn.metrics import confusion_matrix,classification_report\n",
        "from keras.callbacks import EarlyStopping,ReduceLROnPlateau, TensorBoard, ModelCheckpoint\n",
        "import itertools\n",
        "import ipywidgets as widgets"
      ]
    },
    {
      "cell_type": "markdown",
      "metadata": {},
      "source": [
        "## Mounting Google Drive\n",
        "To access the dataset stored on Google Drive, we mount it in our Colab environment."
      ]
    },
    {
      "cell_type": "code",
      "execution_count": 2,
      "metadata": {
        "colab": {
          "base_uri": "https://localhost:8080/"
        },
        "id": "0jug66zdHcQZ",
        "outputId": "c79c7dc6-a444-43e6-95a4-c98345635508"
      },
      "outputs": [
        {
          "name": "stdout",
          "output_type": "stream",
          "text": [
            "Drive already mounted at /content/drive; to attempt to forcibly remount, call drive.mount(\"/content/drive\", force_remount=True).\n"
          ]
        }
      ],
      "source": [
        "from google.colab import drive\n",
        "drive.mount('/content/drive')"
      ]
    },
    {
      "cell_type": "code",
      "execution_count": 3,
      "metadata": {
        "colab": {
          "base_uri": "https://localhost:8080/"
        },
        "id": "yA5fu9PbGFoD",
        "outputId": "d26159d2-5a4a-4a90-8931-90ea434b88ba"
      },
      "outputs": [
        {
          "name": "stdout",
          "output_type": "stream",
          "text": [
            "Drive already mounted at /content/drive; to attempt to forcibly remount, call drive.mount(\"/content/drive\", force_remount=True).\n"
          ]
        }
      ],
      "source": [
        "# Mount Google drive\n",
        "from google.colab import drive\n",
        "drive.mount('/content/drive')"
      ]
    },
    {
      "cell_type": "markdown",
      "metadata": {},
      "source": [
        "## Dataset Path\n",
        "We specify the path to the dataset in our Google Drive."
      ]
    },
    {
      "cell_type": "code",
      "execution_count": 4,
      "metadata": {
        "id": "zm0aBJ-UGJT9"
      },
      "outputs": [],
      "source": [
        "dataset_path = '/content/drive/MyDrive/Colab Notebooks/Polyvore/'"
      ]
    },
    {
      "cell_type": "markdown",
      "metadata": {},
      "source": [
        "## Getting Class Names\n",
        "We define a function to return the dataset class names and their count by listing the directories in the dataset path."
      ]
    },
    {
      "cell_type": "code",
      "execution_count": 5,
      "metadata": {
        "id": "qOEZL5kPGMaE"
      },
      "outputs": [],
      "source": [
        "# return dataset class names and count\n",
        "def get_class_names(data_path):\n",
        "    class_names = [f for f in os.listdir(dataset_path) if os.path.isdir(os.path.join(dataset_path, f))]\n",
        "    return class_names"
      ]
    },
    {
      "cell_type": "code",
      "execution_count": 6,
      "metadata": {
        "colab": {
          "base_uri": "https://localhost:8080/"
        },
        "id": "Nl7QgVWDGQtm",
        "outputId": "871e306b-eab5-4586-ddb3-877cb3e53d71"
      },
      "outputs": [
        {
          "name": "stdout",
          "output_type": "stream",
          "text": [
            "Dataset class count: 10  and names are: ['bag', 'dress', 'eyewear', 'hats', 'neckwear', 'pants', 'skirt', 'shoes', 'top', 'watches']\n"
          ]
        }
      ],
      "source": [
        "# get dataset class names and count\n",
        "class_names = get_class_names(dataset_path)\n",
        "print(\"Dataset class count:\", len(class_names),\" and names are:\", class_names)"
      ]
    },
    {
      "cell_type": "markdown",
      "metadata": {},
      "source": [
        "## Image Preprocessing\n",
        "We resize all images to a uniform size (224x224) and store them along with their labels in an array."
      ]
    },
    {
      "cell_type": "code",
      "execution_count": 7,
      "metadata": {
        "colab": {
          "base_uri": "https://localhost:8080/"
        },
        "id": "fEawSVgbGU7H",
        "outputId": "6836f9b4-48f4-4dd4-bf5e-aa221d319ca0"
      },
      "outputs": [
        {
          "name": "stderr",
          "output_type": "stream",
          "text": [
            "100%|██████████| 786/786 [00:07<00:00, 104.35it/s]\n",
            "100%|██████████| 800/800 [00:04<00:00, 197.79it/s]\n",
            "100%|██████████| 780/780 [00:04<00:00, 187.06it/s]\n",
            "100%|██████████| 782/782 [00:05<00:00, 143.96it/s]\n",
            "100%|██████████| 791/791 [00:04<00:00, 177.14it/s]\n",
            "100%|██████████| 793/793 [00:03<00:00, 209.56it/s]\n",
            "100%|██████████| 795/795 [00:06<00:00, 131.15it/s]\n",
            "100%|██████████| 789/789 [00:04<00:00, 185.80it/s]\n",
            "100%|██████████| 793/793 [00:04<00:00, 186.26it/s]\n",
            "100%|██████████| 786/786 [00:05<00:00, 155.95it/s]\n"
          ]
        },
        {
          "data": {
            "text/plain": [
              "[[786, 'bag'],\n",
              " [800, 'dress'],\n",
              " [780, 'eyewear'],\n",
              " [782, 'hats'],\n",
              " [791, 'neckwear'],\n",
              " [793, 'pants'],\n",
              " [795, 'skirt'],\n",
              " [789, 'shoes'],\n",
              " [793, 'top'],\n",
              " [786, 'watches']]"
            ]
          },
          "execution_count": 7,
          "metadata": {},
          "output_type": "execute_result"
        }
      ],
      "source": [
        "# to resizing all data to same size (224*224)\n",
        "image_size = 224\n",
        "# Array to store all images with its label\n",
        "all_data = []\n",
        "image_count = []\n",
        "count = 0\n",
        "\n",
        "# For each index in the list of classes (class_names), by using method join with arguments dataset_path and i,\n",
        "# reads all images of these classes and after resizing to 150*150, store the image with its label in all_data array\n",
        "for i in class_names:\n",
        "  path=os.path.join(dataset_path,i)\n",
        "  class_label = class_names.index(i)\n",
        "  for image in tqdm.tqdm(os.listdir(path)):\n",
        "    try:\n",
        "      image_array=cv2.imread(os.path.join(path,image))\n",
        "      new_image_array = cv2.resize(image_array, (image_size, image_size))\n",
        "      all_data.append([new_image_array, class_label])\n",
        "      # plt.imshow(new_image_array)\n",
        "      # plt.show()\n",
        "      # break\n",
        "      if os.path.isfile(os.path.join(path,image)):\n",
        "        count += 1\n",
        "    except Exception as e:\n",
        "      pass\n",
        "  image_count.append([count, class_names[class_label]])\n",
        "  count = 0\n",
        "image_count"
      ]
    },
    {
      "cell_type": "code",
      "execution_count": 8,
      "metadata": {
        "colab": {
          "base_uri": "https://localhost:8080/"
        },
        "id": "8mR19YkTGYxq",
        "outputId": "ca0d4dc9-4e3f-4306-cd6f-90086aefbc93"
      },
      "outputs": [
        {
          "name": "stdout",
          "output_type": "stream",
          "text": [
            "7895\n"
          ]
        }
      ],
      "source": [
        "print(len(all_data))"
      ]
    },
    {
      "cell_type": "code",
      "execution_count": 9,
      "metadata": {
        "colab": {
          "base_uri": "https://localhost:8080/"
        },
        "id": "lKKr0rz7Gdxo",
        "outputId": "6b2eee9d-0315-46c4-cede-fdfcfcbe39aa"
      },
      "outputs": [
        {
          "data": {
            "text/plain": [
              "(224, 224, 3)"
            ]
          },
          "execution_count": 9,
          "metadata": {},
          "output_type": "execute_result"
        }
      ],
      "source": [
        "all_data[0][0].shape"
      ]
    },
    {
      "cell_type": "markdown",
      "metadata": {},
      "source": [
        "## Converting Data to NumPy Array\n",
        "We convert the image data to a NumPy array for easier processing and shuffle the data."
      ]
    },
    {
      "cell_type": "code",
      "execution_count": 10,
      "metadata": {
        "colab": {
          "base_uri": "https://localhost:8080/"
        },
        "id": "obP76ZtjGgbQ",
        "outputId": "067376cf-dc55-43e7-e37f-030bd6265948"
      },
      "outputs": [
        {
          "name": "stdout",
          "output_type": "stream",
          "text": [
            "(7895, 224, 224, 3)\n"
          ]
        }
      ],
      "source": [
        "# split images and labels to X and Y arays\n",
        "# images\n",
        "labels = class_names\n",
        "X = []\n",
        "# labels\n",
        "Y = []\n",
        "for i, j in all_data:\n",
        "  X.append(i)\n",
        "  Y.append(j)\n",
        "\n",
        "X = np.array(X)\n",
        "X , Y = shuffle(X,Y,random_state = 42)\n",
        "print(X.shape)\n",
        "\n",
        "y_categorical = to_categorical(Y,num_classes = 10)"
      ]
    },
    {
      "cell_type": "markdown",
      "metadata": {},
      "source": [
        "## Splitting the Data\n",
        "We split the data into training and testing sets, ensuring that we have a balanced distribution of classes in both sets."
      ]
    },
    {
      "cell_type": "code",
      "execution_count": 11,
      "metadata": {
        "id": "UTJIyqqJ1_oD"
      },
      "outputs": [],
      "source": [
        "# split the all_data into 80% train data and 20% test data by random state 42\n",
        "X_train, X_test, y_train, y_test = train_test_split(X, y_categorical, test_size = 0.2, random_state = 42)\n",
        "# split 20% of the train data for validation\n",
        "X_train, X_val, y_train, y_val = train_test_split(X_train, y_train, test_size = 0.20, random_state = 42)"
      ]
    },
    {
      "cell_type": "code",
      "execution_count": 12,
      "metadata": {
        "colab": {
          "base_uri": "https://localhost:8080/"
        },
        "id": "YTeT8155DqIM",
        "outputId": "e929fd07-02ef-4d21-877f-ce4543da244a"
      },
      "outputs": [
        {
          "name": "stdout",
          "output_type": "stream",
          "text": [
            "all data: 7895\n",
            "total train data: 5052 and shape: (5052, 224, 224, 3)\n",
            "total validation data: 1264 and shape: (1264, 224, 224, 3)\n",
            "total test data: 1579 and shape: (1579, 224, 224, 3)\n"
          ]
        }
      ],
      "source": [
        "print('all data:', len(all_data))\n",
        "print('total train data:', len(X_train) , 'and shape:', X_train.shape)\n",
        "print('total validation data:', len(X_val), 'and shape:', X_val.shape)\n",
        "print('total test data:', len(X_test), 'and shape:', X_test.shape)"
      ]
    },
    {
      "cell_type": "code",
      "execution_count": 13,
      "metadata": {
        "id": "0Vxhfcx9G_4C"
      },
      "outputs": [],
      "source": [
        "# Data Preprocessing\n",
        "train_generator =ImageDataGenerator(  rotation_range=40,\n",
        "                                      width_shift_range=0.2,\n",
        "                                      height_shift_range=0.2,\n",
        "                                      horizontal_flip=True,\n",
        "                                      shear_range=0.2,\n",
        "                                      zoom_range=0.3,\n",
        "                                      featurewise_std_normalization=False,\n",
        "                                      samplewise_center=False,\n",
        "                                      samplewise_std_normalization=False,\n",
        "  # rotation_range=10,\n",
        "  # width_shift_range=0.2,\n",
        "  # horizontal_flip=False,\n",
        "  # vertical_flip=False,\n",
        "  # zoom_range=0.2,\n",
        "  # featurewise_center=False,\n",
        "  # featurewise_std_normalization=False,\n",
        "  # samplewise_center=False,\n",
        "  # samplewise_std_normalization=False,\n",
        "  # zca_whitening=False\n",
        ")"
      ]
    },
    {
      "cell_type": "markdown",
      "metadata": {},
      "source": [
        "## Defining the Model\n",
        "We define the VGG16 model, excluding the top layers, and add our own layers for classification."
      ]
    },
    {
      "cell_type": "code",
      "execution_count": 14,
      "metadata": {
        "id": "t45lTOXzGqbl"
      },
      "outputs": [],
      "source": [
        "base_model = VGG16(weights = 'imagenet', include_top = False, input_shape = (image_size, image_size, 3))\n",
        "for layer in base_model.layers:\n",
        "    layer.trainable = False"
      ]
    },
    {
      "cell_type": "code",
      "execution_count": 15,
      "metadata": {
        "id": "1TuwjD1BG24c"
      },
      "outputs": [],
      "source": [
        "model = Sequential()\n",
        "model = base_model.output\n",
        "\n",
        "model = GlobalAveragePooling2D()(model)\n",
        "model = Dropout(rate = 0.2)(model)\n",
        "# model= Dense(64, activation='relu')(model)\n",
        "# model = Dropout(rate = 0.2)(model)\n",
        "model = Dense(10, activation = 'softmax')(model)\n",
        "model = Model(inputs = base_model.input, outputs = model)\n",
        "\n",
        "\n",
        "# model = Flatten()(base_model.output)\n",
        "# model = Dense(256, activation='relu')(model)\n",
        "# model = Dropout(0.5)(model)\n",
        "# model = Dense(10, activation='softmax')(model)\n",
        "# model = Model(inputs = base_model.input, outputs = model)"
      ]
    },
    {
      "cell_type": "code",
      "execution_count": 16,
      "metadata": {
        "colab": {
          "base_uri": "https://localhost:8080/"
        },
        "id": "MllFlyP-G399",
        "outputId": "dd4d791d-b506-4a48-d9d1-52e2160a0a8f"
      },
      "outputs": [
        {
          "name": "stdout",
          "output_type": "stream",
          "text": [
            "Model: \"model\"\n",
            "_________________________________________________________________\n",
            " Layer (type)                Output Shape              Param #   \n",
            "=================================================================\n",
            " input_1 (InputLayer)        [(None, 224, 224, 3)]     0         \n",
            "                                                                 \n",
            " block1_conv1 (Conv2D)       (None, 224, 224, 64)      1792      \n",
            "                                                                 \n",
            " block1_conv2 (Conv2D)       (None, 224, 224, 64)      36928     \n",
            "                                                                 \n",
            " block1_pool (MaxPooling2D)  (None, 112, 112, 64)      0         \n",
            "                                                                 \n",
            " block2_conv1 (Conv2D)       (None, 112, 112, 128)     73856     \n",
            "                                                                 \n",
            " block2_conv2 (Conv2D)       (None, 112, 112, 128)     147584    \n",
            "                                                                 \n",
            " block2_pool (MaxPooling2D)  (None, 56, 56, 128)       0         \n",
            "                                                                 \n",
            " block3_conv1 (Conv2D)       (None, 56, 56, 256)       295168    \n",
            "                                                                 \n",
            " block3_conv2 (Conv2D)       (None, 56, 56, 256)       590080    \n",
            "                                                                 \n",
            " block3_conv3 (Conv2D)       (None, 56, 56, 256)       590080    \n",
            "                                                                 \n",
            " block3_pool (MaxPooling2D)  (None, 28, 28, 256)       0         \n",
            "                                                                 \n",
            " block4_conv1 (Conv2D)       (None, 28, 28, 512)       1180160   \n",
            "                                                                 \n",
            " block4_conv2 (Conv2D)       (None, 28, 28, 512)       2359808   \n",
            "                                                                 \n",
            " block4_conv3 (Conv2D)       (None, 28, 28, 512)       2359808   \n",
            "                                                                 \n",
            " block4_pool (MaxPooling2D)  (None, 14, 14, 512)       0         \n",
            "                                                                 \n",
            " block5_conv1 (Conv2D)       (None, 14, 14, 512)       2359808   \n",
            "                                                                 \n",
            " block5_conv2 (Conv2D)       (None, 14, 14, 512)       2359808   \n",
            "                                                                 \n",
            " block5_conv3 (Conv2D)       (None, 14, 14, 512)       2359808   \n",
            "                                                                 \n",
            " block5_pool (MaxPooling2D)  (None, 7, 7, 512)         0         \n",
            "                                                                 \n",
            " global_average_pooling2d (  (None, 512)               0         \n",
            " GlobalAveragePooling2D)                                         \n",
            "                                                                 \n",
            " dropout (Dropout)           (None, 512)               0         \n",
            "                                                                 \n",
            " dense (Dense)               (None, 10)                5130      \n",
            "                                                                 \n",
            "=================================================================\n",
            "Total params: 14719818 (56.15 MB)\n",
            "Trainable params: 5130 (20.04 KB)\n",
            "Non-trainable params: 14714688 (56.13 MB)\n",
            "_________________________________________________________________\n"
          ]
        }
      ],
      "source": [
        "model.summary()"
      ]
    },
    {
      "cell_type": "code",
      "execution_count": 17,
      "metadata": {
        "id": "6ChnyuwXG7tz"
      },
      "outputs": [],
      "source": [
        "optimizer = tf.keras.optimizers.Adam(learning_rate=0.00129, beta_1=0.9, beta_2=0.999, epsilon = 1e-7)\n",
        "model.compile(optimizer = optimizer, loss = 'categorical_crossentropy', metrics = ['accuracy'])\n",
        "# model.compile(optimizer='rmsprop', loss='categorical_crossentropy', metrics = ['accuracy'])"
      ]
    },
    {
      "cell_type": "code",
      "execution_count": 18,
      "metadata": {
        "id": "Za-BgtXFTBvr"
      },
      "outputs": [],
      "source": [
        "# Set up data augmentation for training data\n",
        "train_datagen = ImageDataGenerator(rescale=1./255,\n",
        "                                   shear_range=0.2,\n",
        "                                   zoom_range=0.2,\n",
        "                                   rotation_range=40,\n",
        "                                   horizontal_flip=True)\n",
        "\n",
        "# Set up data augmentation for validation/test data\n",
        "test_datagen = ImageDataGenerator(rescale=1./255)"
      ]
    },
    {
      "cell_type": "code",
      "execution_count": 19,
      "metadata": {
        "id": "gIjvv-GzHEmp"
      },
      "outputs": [],
      "source": [
        "reduce_lr = ReduceLROnPlateau(monitor = 'val_loss', factor = 0.3, patience = 4, verbose = 1, min_delta = 0.0001)\n",
        "tensorboard = TensorBoard(log_dir = 'logs')\n",
        "checkpoint = ModelCheckpoint(\"DL_project_transfer_learning.h5\", monitor = 'val_accuracy', verbose = 1, save_best_only = True, mode = 'auto')"
      ]
    },
    {
      "cell_type": "markdown",
      "metadata": {},
      "source": [
        "## Model Training\n",
        "We train the model on the training dataset with validation on the test dataset."
      ]
    },
    {
      "cell_type": "code",
      "execution_count": 21,
      "metadata": {
        "colab": {
          "base_uri": "https://localhost:8080/"
        },
        "id": "r4p8dsKvUV5R",
        "outputId": "a42d54f8-fc40-4d74-8bec-da90c63e8d41"
      },
      "outputs": [
        {
          "name": "stderr",
          "output_type": "stream",
          "text": [
            "<ipython-input-21-78acdfda36a6>:2: UserWarning: `Model.fit_generator` is deprecated and will be removed in a future version. Please use `Model.fit`, which supports generators.\n",
            "  VGG16_history = model.fit_generator(train_generator.flow(X_train, y_train, batch_size = 32),\n"
          ]
        },
        {
          "name": "stdout",
          "output_type": "stream",
          "text": [
            "Epoch 1/40\n",
            "158/158 [==============================] - ETA: 0s - loss: 3.0523 - accuracy: 0.5475\n",
            "Epoch 1: val_accuracy improved from -inf to 0.81883, saving model to DL_project_transfer_learning.h5\n"
          ]
        },
        {
          "name": "stderr",
          "output_type": "stream",
          "text": [
            "/usr/local/lib/python3.10/dist-packages/keras/src/engine/training.py:3103: UserWarning: You are saving your model as an HDF5 file via `model.save()`. This file format is considered legacy. We recommend using instead the native Keras format, e.g. `model.save('my_model.keras')`.\n",
            "  saving_api.save_model(\n"
          ]
        },
        {
          "name": "stdout",
          "output_type": "stream",
          "text": [
            "\b\b\b\b\b\b\b\b\b\b\b\b\b\b\b\b\b\b\b\b\b\b\b\b\b\b\b\b\b\b\b\b\b\b\b\b\b\b\b\b\b\b\b\b\b\b\b\b\b\b\b\b\b\b\b\b\b\b\b\b\b\b\b\b\b\b\b\b\b\b\b\b\b\b\b\b\b\b\b\b\b\b\b\b\r158/158 [==============================] - 94s 528ms/step - loss: 3.0523 - accuracy: 0.5475 - val_loss: 0.8982 - val_accuracy: 0.8188 - lr: 0.0013\n",
            "Epoch 2/40\n",
            "158/158 [==============================] - ETA: 0s - loss: 1.2121 - accuracy: 0.7516\n",
            "Epoch 2: val_accuracy improved from 0.81883 to 0.88845, saving model to DL_project_transfer_learning.h5\n",
            "158/158 [==============================] - 72s 452ms/step - loss: 1.2121 - accuracy: 0.7516 - val_loss: 0.5407 - val_accuracy: 0.8884 - lr: 0.0013\n",
            "Epoch 3/40\n",
            "158/158 [==============================] - ETA: 0s - loss: 0.9143 - accuracy: 0.7941\n",
            "Epoch 3: val_accuracy improved from 0.88845 to 0.90111, saving model to DL_project_transfer_learning.h5\n",
            "158/158 [==============================] - 71s 447ms/step - loss: 0.9143 - accuracy: 0.7941 - val_loss: 0.4266 - val_accuracy: 0.9011 - lr: 0.0013\n",
            "Epoch 4/40\n",
            "158/158 [==============================] - ETA: 0s - loss: 0.7535 - accuracy: 0.8175\n",
            "Epoch 4: val_accuracy improved from 0.90111 to 0.91297, saving model to DL_project_transfer_learning.h5\n",
            "158/158 [==============================] - 71s 451ms/step - loss: 0.7535 - accuracy: 0.8175 - val_loss: 0.3733 - val_accuracy: 0.9130 - lr: 0.0013\n",
            "Epoch 5/40\n",
            "158/158 [==============================] - ETA: 0s - loss: 0.6315 - accuracy: 0.8379\n",
            "Epoch 5: val_accuracy did not improve from 0.91297\n",
            "158/158 [==============================] - 73s 458ms/step - loss: 0.6315 - accuracy: 0.8379 - val_loss: 0.3536 - val_accuracy: 0.9122 - lr: 0.0013\n",
            "Epoch 6/40\n",
            "158/158 [==============================] - ETA: 0s - loss: 0.5998 - accuracy: 0.8411\n",
            "Epoch 6: val_accuracy did not improve from 0.91297\n",
            "158/158 [==============================] - 71s 447ms/step - loss: 0.5998 - accuracy: 0.8411 - val_loss: 0.3489 - val_accuracy: 0.9003 - lr: 0.0013\n",
            "Epoch 7/40\n",
            "158/158 [==============================] - ETA: 0s - loss: 0.5508 - accuracy: 0.8521\n",
            "Epoch 7: val_accuracy did not improve from 0.91297\n",
            "158/158 [==============================] - 70s 442ms/step - loss: 0.5508 - accuracy: 0.8521 - val_loss: 0.3694 - val_accuracy: 0.8979 - lr: 0.0013\n",
            "Epoch 8/40\n",
            "158/158 [==============================] - ETA: 0s - loss: 0.5321 - accuracy: 0.8510\n",
            "Epoch 8: val_accuracy improved from 0.91297 to 0.92089, saving model to DL_project_transfer_learning.h5\n",
            "158/158 [==============================] - 72s 456ms/step - loss: 0.5321 - accuracy: 0.8510 - val_loss: 0.2720 - val_accuracy: 0.9209 - lr: 0.0013\n",
            "Epoch 9/40\n",
            "158/158 [==============================] - ETA: 0s - loss: 0.4899 - accuracy: 0.8567\n",
            "Epoch 9: val_accuracy improved from 0.92089 to 0.92326, saving model to DL_project_transfer_learning.h5\n",
            "158/158 [==============================] - 72s 453ms/step - loss: 0.4899 - accuracy: 0.8567 - val_loss: 0.2556 - val_accuracy: 0.9233 - lr: 0.0013\n",
            "Epoch 10/40\n",
            "158/158 [==============================] - ETA: 0s - loss: 0.4689 - accuracy: 0.8614\n",
            "Epoch 10: val_accuracy did not improve from 0.92326\n",
            "158/158 [==============================] - 69s 438ms/step - loss: 0.4689 - accuracy: 0.8614 - val_loss: 0.3324 - val_accuracy: 0.9066 - lr: 0.0013\n",
            "Epoch 11/40\n",
            "158/158 [==============================] - ETA: 0s - loss: 0.4562 - accuracy: 0.8626\n",
            "Epoch 11: val_accuracy did not improve from 0.92326\n",
            "158/158 [==============================] - 72s 451ms/step - loss: 0.4562 - accuracy: 0.8626 - val_loss: 0.2412 - val_accuracy: 0.9217 - lr: 0.0013\n",
            "Epoch 12/40\n",
            "158/158 [==============================] - ETA: 0s - loss: 0.4411 - accuracy: 0.8674\n",
            "Epoch 12: val_accuracy did not improve from 0.92326\n",
            "158/158 [==============================] - 72s 457ms/step - loss: 0.4411 - accuracy: 0.8674 - val_loss: 0.2720 - val_accuracy: 0.9225 - lr: 0.0013\n",
            "Epoch 13/40\n",
            "158/158 [==============================] - ETA: 0s - loss: 0.4667 - accuracy: 0.8652\n",
            "Epoch 13: val_accuracy did not improve from 0.92326\n",
            "158/158 [==============================] - 70s 444ms/step - loss: 0.4667 - accuracy: 0.8652 - val_loss: 0.2731 - val_accuracy: 0.9193 - lr: 0.0013\n",
            "Epoch 14/40\n",
            "158/158 [==============================] - ETA: 0s - loss: 0.4469 - accuracy: 0.8654\n",
            "Epoch 14: val_accuracy did not improve from 0.92326\n",
            "158/158 [==============================] - 71s 450ms/step - loss: 0.4469 - accuracy: 0.8654 - val_loss: 0.3228 - val_accuracy: 0.9114 - lr: 0.0013\n",
            "Epoch 15/40\n",
            "158/158 [==============================] - ETA: 0s - loss: 0.4147 - accuracy: 0.8723\n",
            "Epoch 15: ReduceLROnPlateau reducing learning rate to 0.00038700001314282415.\n",
            "\n",
            "Epoch 15: val_accuracy did not improve from 0.92326\n",
            "158/158 [==============================] - 72s 457ms/step - loss: 0.4147 - accuracy: 0.8723 - val_loss: 0.3687 - val_accuracy: 0.9011 - lr: 0.0013\n",
            "Epoch 16/40\n",
            "158/158 [==============================] - ETA: 0s - loss: 0.3856 - accuracy: 0.8812\n",
            "Epoch 16: val_accuracy improved from 0.92326 to 0.92484, saving model to DL_project_transfer_learning.h5\n",
            "158/158 [==============================] - 70s 442ms/step - loss: 0.3856 - accuracy: 0.8812 - val_loss: 0.2464 - val_accuracy: 0.9248 - lr: 3.8700e-04\n",
            "Epoch 17/40\n",
            "158/158 [==============================] - ETA: 0s - loss: 0.3693 - accuracy: 0.8840\n",
            "Epoch 17: val_accuracy improved from 0.92484 to 0.93671, saving model to DL_project_transfer_learning.h5\n",
            "158/158 [==============================] - 72s 456ms/step - loss: 0.3693 - accuracy: 0.8840 - val_loss: 0.2369 - val_accuracy: 0.9367 - lr: 3.8700e-04\n",
            "Epoch 18/40\n",
            "158/158 [==============================] - ETA: 0s - loss: 0.3550 - accuracy: 0.8818\n",
            "Epoch 18: val_accuracy did not improve from 0.93671\n",
            "158/158 [==============================] - 71s 450ms/step - loss: 0.3550 - accuracy: 0.8818 - val_loss: 0.2238 - val_accuracy: 0.9343 - lr: 3.8700e-04\n",
            "Epoch 19/40\n",
            "158/158 [==============================] - ETA: 0s - loss: 0.3419 - accuracy: 0.8882\n",
            "Epoch 19: val_accuracy did not improve from 0.93671\n",
            "158/158 [==============================] - 70s 441ms/step - loss: 0.3419 - accuracy: 0.8882 - val_loss: 0.2385 - val_accuracy: 0.9264 - lr: 3.8700e-04\n",
            "Epoch 20/40\n",
            "158/158 [==============================] - ETA: 0s - loss: 0.3505 - accuracy: 0.8884\n",
            "Epoch 20: val_accuracy did not improve from 0.93671\n",
            "158/158 [==============================] - 71s 446ms/step - loss: 0.3505 - accuracy: 0.8884 - val_loss: 0.2221 - val_accuracy: 0.9280 - lr: 3.8700e-04\n",
            "Epoch 21/40\n",
            "158/158 [==============================] - ETA: 0s - loss: 0.3342 - accuracy: 0.8901\n",
            "Epoch 21: val_accuracy did not improve from 0.93671\n",
            "158/158 [==============================] - 70s 445ms/step - loss: 0.3342 - accuracy: 0.8901 - val_loss: 0.2366 - val_accuracy: 0.9280 - lr: 3.8700e-04\n",
            "Epoch 22/40\n",
            "158/158 [==============================] - ETA: 0s - loss: 0.3486 - accuracy: 0.8899\n",
            "Epoch 22: val_accuracy did not improve from 0.93671\n",
            "158/158 [==============================] - 69s 439ms/step - loss: 0.3486 - accuracy: 0.8899 - val_loss: 0.2503 - val_accuracy: 0.9201 - lr: 3.8700e-04\n",
            "Epoch 23/40\n",
            "158/158 [==============================] - ETA: 0s - loss: 0.3514 - accuracy: 0.8864\n",
            "Epoch 23: val_accuracy did not improve from 0.93671\n",
            "158/158 [==============================] - 71s 450ms/step - loss: 0.3514 - accuracy: 0.8864 - val_loss: 0.2213 - val_accuracy: 0.9320 - lr: 3.8700e-04\n",
            "Epoch 24/40\n",
            "158/158 [==============================] - ETA: 0s - loss: 0.3389 - accuracy: 0.8878\n",
            "Epoch 24: val_accuracy did not improve from 0.93671\n",
            "158/158 [==============================] - 70s 443ms/step - loss: 0.3389 - accuracy: 0.8878 - val_loss: 0.2195 - val_accuracy: 0.9320 - lr: 3.8700e-04\n",
            "Epoch 25/40\n",
            "158/158 [==============================] - ETA: 0s - loss: 0.3242 - accuracy: 0.8895\n",
            "Epoch 25: val_accuracy did not improve from 0.93671\n",
            "158/158 [==============================] - 69s 438ms/step - loss: 0.3242 - accuracy: 0.8895 - val_loss: 0.2070 - val_accuracy: 0.9328 - lr: 3.8700e-04\n",
            "Epoch 26/40\n",
            "158/158 [==============================] - ETA: 0s - loss: 0.3205 - accuracy: 0.8897\n",
            "Epoch 26: val_accuracy did not improve from 0.93671\n",
            "158/158 [==============================] - 72s 456ms/step - loss: 0.3205 - accuracy: 0.8897 - val_loss: 0.2176 - val_accuracy: 0.9296 - lr: 3.8700e-04\n",
            "Epoch 27/40\n",
            "158/158 [==============================] - ETA: 0s - loss: 0.3301 - accuracy: 0.8971\n",
            "Epoch 27: val_accuracy did not improve from 0.93671\n",
            "158/158 [==============================] - 71s 450ms/step - loss: 0.3301 - accuracy: 0.8971 - val_loss: 0.2480 - val_accuracy: 0.9256 - lr: 3.8700e-04\n",
            "Epoch 28/40\n",
            "158/158 [==============================] - ETA: 0s - loss: 0.3530 - accuracy: 0.8816\n",
            "Epoch 28: val_accuracy did not improve from 0.93671\n",
            "158/158 [==============================] - 70s 443ms/step - loss: 0.3530 - accuracy: 0.8816 - val_loss: 0.2055 - val_accuracy: 0.9328 - lr: 3.8700e-04\n",
            "Epoch 29/40\n",
            "158/158 [==============================] - ETA: 0s - loss: 0.3203 - accuracy: 0.8915\n",
            "Epoch 29: val_accuracy did not improve from 0.93671\n",
            "158/158 [==============================] - 72s 458ms/step - loss: 0.3203 - accuracy: 0.8915 - val_loss: 0.2156 - val_accuracy: 0.9280 - lr: 3.8700e-04\n",
            "Epoch 30/40\n",
            "158/158 [==============================] - ETA: 0s - loss: 0.3291 - accuracy: 0.8880\n",
            "Epoch 30: val_accuracy did not improve from 0.93671\n",
            "158/158 [==============================] - 71s 451ms/step - loss: 0.3291 - accuracy: 0.8880 - val_loss: 0.2128 - val_accuracy: 0.9312 - lr: 3.8700e-04\n",
            "Epoch 31/40\n",
            "158/158 [==============================] - ETA: 0s - loss: 0.3142 - accuracy: 0.8917\n",
            "Epoch 31: val_accuracy did not improve from 0.93671\n",
            "158/158 [==============================] - 70s 445ms/step - loss: 0.3142 - accuracy: 0.8917 - val_loss: 0.2361 - val_accuracy: 0.9161 - lr: 3.8700e-04\n",
            "Epoch 32/40\n",
            "158/158 [==============================] - ETA: 0s - loss: 0.3353 - accuracy: 0.8874\n",
            "Epoch 32: ReduceLROnPlateau reducing learning rate to 0.00011610000219661742.\n",
            "\n",
            "Epoch 32: val_accuracy did not improve from 0.93671\n",
            "158/158 [==============================] - 71s 448ms/step - loss: 0.3353 - accuracy: 0.8874 - val_loss: 0.2069 - val_accuracy: 0.9312 - lr: 3.8700e-04\n",
            "Epoch 33/40\n",
            "158/158 [==============================] - ETA: 0s - loss: 0.3099 - accuracy: 0.8941\n",
            "Epoch 33: val_accuracy did not improve from 0.93671\n",
            "158/158 [==============================] - 72s 454ms/step - loss: 0.3099 - accuracy: 0.8941 - val_loss: 0.2000 - val_accuracy: 0.9351 - lr: 1.1610e-04\n",
            "Epoch 34/40\n",
            "158/158 [==============================] - ETA: 0s - loss: 0.3180 - accuracy: 0.8973\n",
            "Epoch 34: val_accuracy did not improve from 0.93671\n",
            "158/158 [==============================] - 70s 443ms/step - loss: 0.3180 - accuracy: 0.8973 - val_loss: 0.2025 - val_accuracy: 0.9335 - lr: 1.1610e-04\n",
            "Epoch 35/40\n",
            "158/158 [==============================] - ETA: 0s - loss: 0.2917 - accuracy: 0.8985\n",
            "Epoch 35: val_accuracy did not improve from 0.93671\n",
            "158/158 [==============================] - 70s 444ms/step - loss: 0.2917 - accuracy: 0.8985 - val_loss: 0.2043 - val_accuracy: 0.9351 - lr: 1.1610e-04\n",
            "Epoch 36/40\n",
            "158/158 [==============================] - ETA: 0s - loss: 0.2948 - accuracy: 0.9036\n",
            "Epoch 36: val_accuracy did not improve from 0.93671\n",
            "158/158 [==============================] - 71s 450ms/step - loss: 0.2948 - accuracy: 0.9036 - val_loss: 0.2023 - val_accuracy: 0.9351 - lr: 1.1610e-04\n",
            "Epoch 37/40\n",
            "158/158 [==============================] - ETA: 0s - loss: 0.3211 - accuracy: 0.8872\n",
            "Epoch 37: ReduceLROnPlateau reducing learning rate to 3.483000109554268e-05.\n",
            "\n",
            "Epoch 37: val_accuracy did not improve from 0.93671\n",
            "158/158 [==============================] - 70s 445ms/step - loss: 0.3211 - accuracy: 0.8872 - val_loss: 0.2000 - val_accuracy: 0.9304 - lr: 1.1610e-04\n",
            "Epoch 38/40\n",
            "158/158 [==============================] - ETA: 0s - loss: 0.3034 - accuracy: 0.8892\n",
            "Epoch 38: val_accuracy did not improve from 0.93671\n",
            "158/158 [==============================] - 72s 455ms/step - loss: 0.3034 - accuracy: 0.8892 - val_loss: 0.2015 - val_accuracy: 0.9296 - lr: 3.4830e-05\n",
            "Epoch 39/40\n",
            "158/158 [==============================] - ETA: 0s - loss: 0.2817 - accuracy: 0.9058\n",
            "Epoch 39: val_accuracy did not improve from 0.93671\n",
            "158/158 [==============================] - 70s 446ms/step - loss: 0.2817 - accuracy: 0.9058 - val_loss: 0.1990 - val_accuracy: 0.9367 - lr: 3.4830e-05\n",
            "Epoch 40/40\n",
            "158/158 [==============================] - ETA: 0s - loss: 0.3044 - accuracy: 0.8945\n",
            "Epoch 40: val_accuracy improved from 0.93671 to 0.94066, saving model to DL_project_transfer_learning.h5\n",
            "158/158 [==============================] - 74s 468ms/step - loss: 0.3044 - accuracy: 0.8945 - val_loss: 0.2006 - val_accuracy: 0.9407 - lr: 3.4830e-05\n"
          ]
        }
      ],
      "source": [
        "train_generator.fit(X_train)\n",
        "VGG16_history = model.fit_generator(train_generator.flow(X_train, y_train, batch_size = 32),\n",
        "                              epochs = 40,\n",
        "                              validation_data = (X_val, y_val),\n",
        "                              verbose = 1,\n",
        "                              callbacks = [reduce_lr, tensorboard, checkpoint, ])"
      ]
    },
    {
      "cell_type": "code",
      "execution_count": 25,
      "metadata": {
        "colab": {
          "base_uri": "https://localhost:8080/"
        },
        "id": "q4KoP1QzHMqL",
        "outputId": "3ab9afbc-787a-412a-d70f-83f5e41a6ca8"
      },
      "outputs": [
        {
          "name": "stderr",
          "output_type": "stream",
          "text": [
            "/usr/local/lib/python3.10/dist-packages/keras/src/engine/training.py:3103: UserWarning: You are saving your model as an HDF5 file via `model.save()`. This file format is considered legacy. We recommend using instead the native Keras format, e.g. `model.save('my_model.keras')`.\n",
            "  saving_api.save_model(\n"
          ]
        }
      ],
      "source": [
        "# Save the Model\n",
        "model.save('VGG16Transfer_Learning.h5')"
      ]
    },
    {
      "cell_type": "code",
      "execution_count": 26,
      "metadata": {
        "colab": {
          "base_uri": "https://localhost:8080/",
          "height": 927
        },
        "id": "EqWpDB1VMfnO",
        "outputId": "3b8d66c7-61b6-43db-f1ee-dcc7f5c4a01b"
      },
      "outputs": [
        {
          "data": {
            "image/png": "[encoded data removed]",
            "text/plain": [
              "<Figure size 640x480 with 1 Axes>"
            ]
          },
          "metadata": {},
          "output_type": "display_data"
        },
        {
          "data": {
            "image/png": "[encoded data removed]",
            "text/plain": [
              "<Figure size 640x480 with 1 Axes>"
            ]
          },
          "metadata": {},
          "output_type": "display_data"
        }
      ],
      "source": [
        "# Displaying curves of loss and accuracy during training\n",
        "\n",
        "acc = VGG16_history.history['accuracy']\n",
        "val_acc = VGG16_history.history['val_accuracy']\n",
        "loss = VGG16_history.history['loss']\n",
        "val_loss = VGG16_history.history['val_loss']\n",
        "\n",
        "epochs = range(1, len(acc) + 1)\n",
        "# plt.plot(epochs, acc, 'r', label='Training acc')\n",
        "# plt.plot(epochs, val_acc, 'b', label='Validation acc')\n",
        "plt.title('Training and validation accuracy')\n",
        "\n",
        "line1 = plt.plot(epochs, val_acc, label = 'ValidationAccuracy')\n",
        "line2 = plt.plot(epochs, acc, label= 'Training Accuracy')\n",
        "\n",
        "plt.setp(line1, linewidth=1.0, marker = 'o', markersize=5.0,color='b')\n",
        "plt.setp(line2, linewidth=1.0, marker= 'o', markersize=5.0,color='r')\n",
        "plt.xlabel('Epochs')\n",
        "plt.ylabel('Accuracy')\n",
        "plt.legend()\n",
        "plt.figure()\n",
        "# plt.plot(epochs, loss, 'r', label='Training loss')\n",
        "# plt.plot(epochs, val_loss, 'b', label='Validation loss')\n",
        "\n",
        "line3 = plt.plot(epochs, val_loss, label = 'Validation loss')\n",
        "line4 = plt.plot(epochs, loss, label= 'Training loss')\n",
        "\n",
        "plt.setp(line3, linewidth=1.0, marker = 'o', markersize=5.0,color='b')\n",
        "plt.setp(line4, linewidth=1.0, marker= 'o', markersize=5.0,color='r')\n",
        "\n",
        "plt.title('Training and validation loss')\n",
        "plt.xlabel('Epochs')\n",
        "plt.ylabel('Loss')\n",
        "plt.legend()\n",
        "plt.show()"
      ]
    },
    {
      "cell_type": "code",
      "execution_count": 27,
      "metadata": {
        "colab": {
          "base_uri": "https://localhost:8080/",
          "height": 542
        },
        "id": "IyLmRzY6_1Dz",
        "outputId": "f68b3189-f1c2-4856-fa60-fe2141e2b1f0"
      },
      "outputs": [
        {
          "data": {
            "text/html": [
              "<html>\n",
              "<head><meta charset=\"utf-8\" /></head>\n",
              "<body>\n",
              "    <div>            <script src=\"https://cdnjs.cloudflare.com/ajax/libs/mathjax/2.7.5/MathJax.js?config=TeX-AMS-MML_SVG\"></script><script type=\"text/javascript\">if (window.MathJax && window.MathJax.Hub && window.MathJax.Hub.Config) {window.MathJax.Hub.Config({SVG: {font: \"STIX-Web\"}});}</script>                <script type=\"text/javascript\">window.PlotlyConfig = {MathJaxConfig: 'local'};</script>\n",
              "        <script charset=\"utf-8\" src=\"https://cdn.plot.ly/plotly-2.24.1.min.js\"></script>                <div id=\"50c75547-40e8-4f16-8d17-c8200da546ce\" class=\"plotly-graph-div\" style=\"height:525px; width:100%;\"></div>            <script type=\"text/javascript\">                                    window.PLOTLYENV=window.PLOTLYENV || {};                                    if (document.getElementById(\"50c75547-40e8-4f16-8d17-c8200da546ce\")) {                    Plotly.newPlot(                        \"50c75547-40e8-4f16-8d17-c8200da546ce\",                        [{\"marker\":{\"angleref\":\"previous\",\"size\":9,\"symbol\":\"circle\"},\"mode\":\"lines+markers\",\"name\":\"Validation_loss\",\"y\":[0.8982180953025818,0.5406993627548218,0.4266311526298523,0.37334761023521423,0.3535847067832947,0.3489493131637573,0.36939293146133423,0.27200114727020264,0.2556292414665222,0.3324182629585266,0.24118217825889587,0.2719884216785431,0.27311596274375916,0.32276540994644165,0.36870646476745605,0.24640901386737823,0.23688647150993347,0.22382895648479462,0.23850317299365997,0.222085639834404,0.2366171032190323,0.2502879500389099,0.2213050276041031,0.21948441863059998,0.20698149502277374,0.2176319807767868,0.24799343943595886,0.20554685592651367,0.2155700922012329,0.21282978355884552,0.23606865108013153,0.2069261223077774,0.19997985661029816,0.2024923712015152,0.2042897790670395,0.2022916078567505,0.20000770688056946,0.20154589414596558,0.1989956498146057,0.20057107508182526],\"type\":\"scatter\",\"xaxis\":\"x\",\"yaxis\":\"y\"},{\"marker\":{\"angleref\":\"previous\",\"size\":9,\"symbol\":\"circle\"},\"mode\":\"lines+markers\",\"name\":\"Training_loss\",\"y\":[3.052316665649414,1.21209716796875,0.91433185338974,0.7535029053688049,0.6314523220062256,0.5998112559318542,0.5507673025131226,0.5321111083030701,0.4898800551891327,0.4689083695411682,0.4562359154224396,0.4410993456840515,0.4667310416698456,0.44693830609321594,0.41471901535987854,0.3856324553489685,0.3693225681781769,0.3550181984901428,0.34189948439598083,0.35054370760917664,0.3342048227787018,0.3485631048679352,0.3514413833618164,0.3389376103878021,0.3242190480232239,0.32051295042037964,0.3300897479057312,0.3530416190624237,0.3203432559967041,0.32910799980163574,0.3142368197441101,0.33531829714775085,0.3099406957626343,0.31796640157699585,0.291718065738678,0.2947889268398285,0.3211143910884857,0.30335575342178345,0.2816937565803528,0.3044286072254181],\"type\":\"scatter\",\"xaxis\":\"x\",\"yaxis\":\"y\"},{\"marker\":{\"angleref\":\"previous\",\"size\":9,\"symbol\":\"circle\"},\"mode\":\"lines+markers\",\"name\":\"Validation_accuracy\",\"y\":[0.8188291192054749,0.8884493708610535,0.9011076092720032,0.9129746556282043,0.9121835231781006,0.9003164768218994,0.8979430198669434,0.9208860993385315,0.9232594966888428,0.9066455960273743,0.9216772317886353,0.922468364238739,0.9193037748336792,0.9113923907279968,0.9011076092720032,0.9248417615890503,0.9367088675498962,0.934335470199585,0.9264240264892578,0.9280063509941101,0.9280063509941101,0.920094907283783,0.9319620132446289,0.9319620132446289,0.9327531456947327,0.9295886158943176,0.925632894039154,0.9327531456947327,0.9280063509941101,0.9311708807945251,0.9161392450332642,0.9311708807945251,0.9351266026496887,0.9335442781448364,0.9351266026496887,0.9351266026496887,0.9303797483444214,0.9295886158943176,0.9367088675498962,0.940664529800415],\"type\":\"scatter\",\"xaxis\":\"x\",\"yaxis\":\"y2\"},{\"marker\":{\"angleref\":\"previous\",\"size\":9,\"symbol\":\"circle\"},\"mode\":\"lines+markers\",\"name\":\"Training_accuracy\",\"y\":[0.5475059151649475,0.7515835165977478,0.7941409349441528,0.8174980282783508,0.8378859758377075,0.8410530686378479,0.8521377444267273,0.8509501218795776,0.8566904067993164,0.8614410161972046,0.8626286387443542,0.8673792481422424,0.8652018904685974,0.8653998374938965,0.8723278045654297,0.8812351822853088,0.8840063214302063,0.8818289637565613,0.8881630897521973,0.8883610367774963,0.8901425004005432,0.8899445533752441,0.8863816261291504,0.8877671957015991,0.8895487189292908,0.8897466063499451,0.8970704674720764,0.8816310167312622,0.8915281295776367,0.8879651427268982,0.8917260766029358,0.8873713612556458,0.8941013216972351,0.8972684144973755,0.8984560370445251,0.9036025404930115,0.8871734142303467,0.8891528248786926,0.9057798981666565,0.8944972157478333],\"type\":\"scatter\",\"xaxis\":\"x\",\"yaxis\":\"y2\"}],                        {\"template\":{\"data\":{\"histogram2dcontour\":[{\"type\":\"histogram2dcontour\",\"colorbar\":{\"outlinewidth\":0,\"ticks\":\"\"},\"colorscale\":[[0.0,\"#0d0887\"],[0.1111111111111111,\"#46039f\"],[0.2222222222222222,\"#7201a8\"],[0.3333333333333333,\"#9c179e\"],[0.4444444444444444,\"#bd3786\"],[0.5555555555555556,\"#d8576b\"],[0.6666666666666666,\"#ed7953\"],[0.7777777777777778,\"#fb9f3a\"],[0.8888888888888888,\"#fdca26\"],[1.0,\"#f0f921\"]]}],\"choropleth\":[{\"type\":\"choropleth\",\"colorbar\":{\"outlinewidth\":0,\"ticks\":\"\"}}],\"histogram2d\":[{\"type\":\"histogram2d\",\"colorbar\":{\"outlinewidth\":0,\"ticks\":\"\"},\"colorscale\":[[0.0,\"#0d0887\"],[0.1111111111111111,\"#46039f\"],[0.2222222222222222,\"#7201a8\"],[0.3333333333333333,\"#9c179e\"],[0.4444444444444444,\"#bd3786\"],[0.5555555555555556,\"#d8576b\"],[0.6666666666666666,\"#ed7953\"],[0.7777777777777778,\"#fb9f3a\"],[0.8888888888888888,\"#fdca26\"],[1.0,\"#f0f921\"]]}],\"heatmap\":[{\"type\":\"heatmap\",\"colorbar\":{\"outlinewidth\":0,\"ticks\":\"\"},\"colorscale\":[[0.0,\"#0d0887\"],[0.1111111111111111,\"#46039f\"],[0.2222222222222222,\"#7201a8\"],[0.3333333333333333,\"#9c179e\"],[0.4444444444444444,\"#bd3786\"],[0.5555555555555556,\"#d8576b\"],[0.6666666666666666,\"#ed7953\"],[0.7777777777777778,\"#fb9f3a\"],[0.8888888888888888,\"#fdca26\"],[1.0,\"#f0f921\"]]}],\"heatmapgl\":[{\"type\":\"heatmapgl\",\"colorbar\":{\"outlinewidth\":0,\"ticks\":\"\"},\"colorscale\":[[0.0,\"#0d0887\"],[0.1111111111111111,\"#46039f\"],[0.2222222222222222,\"#7201a8\"],[0.3333333333333333,\"#9c179e\"],[0.4444444444444444,\"#bd3786\"],[0.5555555555555556,\"#d8576b\"],[0.6666666666666666,\"#ed7953\"],[0.7777777777777778,\"#fb9f3a\"],[0.8888888888888888,\"#fdca26\"],[1.0,\"#f0f921\"]]}],\"contourcarpet\":[{\"type\":\"contourcarpet\",\"colorbar\":{\"outlinewidth\":0,\"ticks\":\"\"}}],\"contour\":[{\"type\":\"contour\",\"colorbar\":{\"outlinewidth\":0,\"ticks\":\"\"},\"colorscale\":[[0.0,\"#0d0887\"],[0.1111111111111111,\"#46039f\"],[0.2222222222222222,\"#7201a8\"],[0.3333333333333333,\"#9c179e\"],[0.4444444444444444,\"#bd3786\"],[0.5555555555555556,\"#d8576b\"],[0.6666666666666666,\"#ed7953\"],[0.7777777777777778,\"#fb9f3a\"],[0.8888888888888888,\"#fdca26\"],[1.0,\"#f0f921\"]]}],\"surface\":[{\"type\":\"surface\",\"colorbar\":{\"outlinewidth\":0,\"ticks\":\"\"},\"colorscale\":[[0.0,\"#0d0887\"],[0.1111111111111111,\"#46039f\"],[0.2222222222222222,\"#7201a8\"],[0.3333333333333333,\"#9c179e\"],[0.4444444444444444,\"#bd3786\"],[0.5555555555555556,\"#d8576b\"],[0.6666666666666666,\"#ed7953\"],[0.7777777777777778,\"#fb9f3a\"],[0.8888888888888888,\"#fdca26\"],[1.0,\"#f0f921\"]]}],\"mesh3d\":[{\"type\":\"mesh3d\",\"colorbar\":{\"outlinewidth\":0,\"ticks\":\"\"}}],\"scatter\":[{\"fillpattern\":{\"fillmode\":\"overlay\",\"size\":10,\"solidity\":0.2},\"type\":\"scatter\"}],\"parcoords\":[{\"type\":\"parcoords\",\"line\":{\"colorbar\":{\"outlinewidth\":0,\"ticks\":\"\"}}}],\"scatterpolargl\":[{\"type\":\"scatterpolargl\",\"marker\":{\"colorbar\":{\"outlinewidth\":0,\"ticks\":\"\"}}}],\"bar\":[{\"error_x\":{\"color\":\"#2a3f5f\"},\"error_y\":{\"color\":\"#2a3f5f\"},\"marker\":{\"line\":{\"color\":\"#E5ECF6\",\"width\":0.5},\"pattern\":{\"fillmode\":\"overlay\",\"size\":10,\"solidity\":0.2}},\"type\":\"bar\"}],\"scattergeo\":[{\"type\":\"scattergeo\",\"marker\":{\"colorbar\":{\"outlinewidth\":0,\"ticks\":\"\"}}}],\"scatterpolar\":[{\"type\":\"scatterpolar\",\"marker\":{\"colorbar\":{\"outlinewidth\":0,\"ticks\":\"\"}}}],\"histogram\":[{\"marker\":{\"pattern\":{\"fillmode\":\"overlay\",\"size\":10,\"solidity\":0.2}},\"type\":\"histogram\"}],\"scattergl\":[{\"type\":\"scattergl\",\"marker\":{\"colorbar\":{\"outlinewidth\":0,\"ticks\":\"\"}}}],\"scatter3d\":[{\"type\":\"scatter3d\",\"line\":{\"colorbar\":{\"outlinewidth\":0,\"ticks\":\"\"}},\"marker\":{\"colorbar\":{\"outlinewidth\":0,\"ticks\":\"\"}}}],\"scattermapbox\":[{\"type\":\"scattermapbox\",\"marker\":{\"colorbar\":{\"outlinewidth\":0,\"ticks\":\"\"}}}],\"scatterternary\":[{\"type\":\"scatterternary\",\"marker\":{\"colorbar\":{\"outlinewidth\":0,\"ticks\":\"\"}}}],\"scattercarpet\":[{\"type\":\"scattercarpet\",\"marker\":{\"colorbar\":{\"outlinewidth\":0,\"ticks\":\"\"}}}],\"carpet\":[{\"aaxis\":{\"endlinecolor\":\"#2a3f5f\",\"gridcolor\":\"white\",\"linecolor\":\"white\",\"minorgridcolor\":\"white\",\"startlinecolor\":\"#2a3f5f\"},\"baxis\":{\"endlinecolor\":\"#2a3f5f\",\"gridcolor\":\"white\",\"linecolor\":\"white\",\"minorgridcolor\":\"white\",\"startlinecolor\":\"#2a3f5f\"},\"type\":\"carpet\"}],\"table\":[{\"cells\":{\"fill\":{\"color\":\"#EBF0F8\"},\"line\":{\"color\":\"white\"}},\"header\":{\"fill\":{\"color\":\"#C8D4E3\"},\"line\":{\"color\":\"white\"}},\"type\":\"table\"}],\"barpolar\":[{\"marker\":{\"line\":{\"color\":\"#E5ECF6\",\"width\":0.5},\"pattern\":{\"fillmode\":\"overlay\",\"size\":10,\"solidity\":0.2}},\"type\":\"barpolar\"}],\"pie\":[{\"automargin\":true,\"type\":\"pie\"}]},\"layout\":{\"autotypenumbers\":\"strict\",\"colorway\":[\"#636efa\",\"#EF553B\",\"#00cc96\",\"#ab63fa\",\"#FFA15A\",\"#19d3f3\",\"#FF6692\",\"#B6E880\",\"#FF97FF\",\"#FECB52\"],\"font\":{\"color\":\"#2a3f5f\"},\"hovermode\":\"closest\",\"hoverlabel\":{\"align\":\"left\"},\"paper_bgcolor\":\"white\",\"plot_bgcolor\":\"#E5ECF6\",\"polar\":{\"bgcolor\":\"#E5ECF6\",\"angularaxis\":{\"gridcolor\":\"white\",\"linecolor\":\"white\",\"ticks\":\"\"},\"radialaxis\":{\"gridcolor\":\"white\",\"linecolor\":\"white\",\"ticks\":\"\"}},\"ternary\":{\"bgcolor\":\"#E5ECF6\",\"aaxis\":{\"gridcolor\":\"white\",\"linecolor\":\"white\",\"ticks\":\"\"},\"baxis\":{\"gridcolor\":\"white\",\"linecolor\":\"white\",\"ticks\":\"\"},\"caxis\":{\"gridcolor\":\"white\",\"linecolor\":\"white\",\"ticks\":\"\"}},\"coloraxis\":{\"colorbar\":{\"outlinewidth\":0,\"ticks\":\"\"}},\"colorscale\":{\"sequential\":[[0.0,\"#0d0887\"],[0.1111111111111111,\"#46039f\"],[0.2222222222222222,\"#7201a8\"],[0.3333333333333333,\"#9c179e\"],[0.4444444444444444,\"#bd3786\"],[0.5555555555555556,\"#d8576b\"],[0.6666666666666666,\"#ed7953\"],[0.7777777777777778,\"#fb9f3a\"],[0.8888888888888888,\"#fdca26\"],[1.0,\"#f0f921\"]],\"sequentialminus\":[[0.0,\"#0d0887\"],[0.1111111111111111,\"#46039f\"],[0.2222222222222222,\"#7201a8\"],[0.3333333333333333,\"#9c179e\"],[0.4444444444444444,\"#bd3786\"],[0.5555555555555556,\"#d8576b\"],[0.6666666666666666,\"#ed7953\"],[0.7777777777777778,\"#fb9f3a\"],[0.8888888888888888,\"#fdca26\"],[1.0,\"#f0f921\"]],\"diverging\":[[0,\"#8e0152\"],[0.1,\"#c51b7d\"],[0.2,\"#de77ae\"],[0.3,\"#f1b6da\"],[0.4,\"#fde0ef\"],[0.5,\"#f7f7f7\"],[0.6,\"#e6f5d0\"],[0.7,\"#b8e186\"],[0.8,\"#7fbc41\"],[0.9,\"#4d9221\"],[1,\"#276419\"]]},\"xaxis\":{\"gridcolor\":\"white\",\"linecolor\":\"white\",\"ticks\":\"\",\"title\":{\"standoff\":15},\"zerolinecolor\":\"white\",\"automargin\":true,\"zerolinewidth\":2},\"yaxis\":{\"gridcolor\":\"white\",\"linecolor\":\"white\",\"ticks\":\"\",\"title\":{\"standoff\":15},\"zerolinecolor\":\"white\",\"automargin\":true,\"zerolinewidth\":2},\"scene\":{\"xaxis\":{\"backgroundcolor\":\"#E5ECF6\",\"gridcolor\":\"white\",\"linecolor\":\"white\",\"showbackground\":true,\"ticks\":\"\",\"zerolinecolor\":\"white\",\"gridwidth\":2},\"yaxis\":{\"backgroundcolor\":\"#E5ECF6\",\"gridcolor\":\"white\",\"linecolor\":\"white\",\"showbackground\":true,\"ticks\":\"\",\"zerolinecolor\":\"white\",\"gridwidth\":2},\"zaxis\":{\"backgroundcolor\":\"#E5ECF6\",\"gridcolor\":\"white\",\"linecolor\":\"white\",\"showbackground\":true,\"ticks\":\"\",\"zerolinecolor\":\"white\",\"gridwidth\":2}},\"shapedefaults\":{\"line\":{\"color\":\"#2a3f5f\"}},\"annotationdefaults\":{\"arrowcolor\":\"#2a3f5f\",\"arrowhead\":0,\"arrowwidth\":1},\"geo\":{\"bgcolor\":\"white\",\"landcolor\":\"#E5ECF6\",\"subunitcolor\":\"white\",\"showland\":true,\"showlakes\":true,\"lakecolor\":\"white\"},\"title\":{\"x\":0.05},\"mapbox\":{\"style\":\"light\"}}},\"xaxis\":{\"anchor\":\"y\",\"domain\":[0.0,0.94],\"title\":{\"text\":\"Epoch\"}},\"yaxis\":{\"anchor\":\"x\",\"domain\":[0.0,1.0],\"title\":{\"text\":\"\\u003cb\\u003eLoss\\u003c\\u002fb\\u003e\"}},\"yaxis2\":{\"anchor\":\"x\",\"overlaying\":\"y\",\"side\":\"right\",\"title\":{\"text\":\"\\u003cb\\u003eAccuracy\\u003c\\u002fb\\u003e\"}},\"title\":{\"text\":\"Loss\\u002fAccuracy of CNN Model\"}},                        {\"responsive\": true}                    ).then(function(){\n",
              "                            \n",
              "var gd = document.getElementById('50c75547-40e8-4f16-8d17-c8200da546ce');\n",
              "var x = new MutationObserver(function (mutations, observer) {{\n",
              "        var display = window.getComputedStyle(gd).display;\n",
              "        if (!display || display === 'none') {{\n",
              "            console.log([gd, 'removed!']);\n",
              "            Plotly.purge(gd);\n",
              "            observer.disconnect();\n",
              "        }}\n",
              "}});\n",
              "\n",
              "// Listen for the removal of the full notebook cells\n",
              "var notebookContainer = gd.closest('#notebook-container');\n",
              "if (notebookContainer) {{\n",
              "    x.observe(notebookContainer, {childList: true});\n",
              "}}\n",
              "\n",
              "// Listen for the clearing of the current output cell\n",
              "var outputEl = gd.closest('.output');\n",
              "if (outputEl) {{\n",
              "    x.observe(outputEl, {childList: true});\n",
              "}}\n",
              "\n",
              "                        })                };                            </script>        </div>\n",
              "</body>\n",
              "</html>"
            ]
          },
          "metadata": {},
          "output_type": "display_data"
        }
      ],
      "source": [
        "import plotly.graph_objects as go\n",
        "from plotly.subplots import make_subplots\n",
        "\n",
        "# Create figure with secondary y-axis\n",
        "fig = make_subplots(specs=[[{\"secondary_y\": True}]])\n",
        "\n",
        "# Add traces\n",
        "fig.add_trace(\n",
        "    go.Scatter( y=VGG16_history.history['val_loss'], mode=\"lines+markers\",\n",
        "            marker=dict(\n",
        "                symbol=\"circle\",\n",
        "                size=9,\n",
        "                angleref=\"previous\",\n",
        "            ), name=\"Validation_loss\"),\n",
        "    secondary_y=False,\n",
        ")\n",
        "\n",
        "fig.add_trace(\n",
        "    go.Scatter( y=VGG16_history.history['loss'], mode=\"lines+markers\",\n",
        "            marker=dict(\n",
        "                symbol=\"circle\",\n",
        "                size=9,\n",
        "                angleref=\"previous\",\n",
        "            ), name=\"Training_loss\"),\n",
        "    secondary_y=False,\n",
        ")\n",
        "\n",
        "fig.add_trace(\n",
        "    go.Scatter( y=VGG16_history.history['val_accuracy'], mode=\"lines+markers\",\n",
        "            marker=dict(\n",
        "                symbol=\"circle\",\n",
        "                size=9,\n",
        "                angleref=\"previous\",\n",
        "            ), name=\"Validation_accuracy\"),\n",
        "    secondary_y=True,\n",
        ")\n",
        "\n",
        "fig.add_trace(\n",
        "    go.Scatter( y=VGG16_history.history['accuracy'], mode=\"lines+markers\",\n",
        "            marker=dict(\n",
        "                symbol=\"circle\",\n",
        "                size=9,\n",
        "                angleref=\"previous\",\n",
        "            ), name=\"Training_accuracy\"),\n",
        "    secondary_y=True,\n",
        ")\n",
        "\n",
        "# Add figure title\n",
        "fig.update_layout(\n",
        "    title_text=\"Loss/Accuracy of CNN Model\"\n",
        ")\n",
        "\n",
        "# Set x-axis title\n",
        "fig.update_xaxes(title_text=\"Epoch\")\n",
        "\n",
        "# Set y-axes titles\n",
        "fig.update_yaxes(title_text=\"<b>Loss</b>\", secondary_y=False)\n",
        "fig.update_yaxes(title_text=\"<b>Accuracy</b>\", secondary_y=True)\n",
        "\n",
        "fig.show()"
      ]
    },
    {
      "cell_type": "markdown",
      "metadata": {},
      "source": [
        "## Model Evaluation\n",
        "We evaluate the model on the test dataset and generate a classification report and confusion matrix."
      ]
    },
    {
      "cell_type": "code",
      "execution_count": 28,
      "metadata": {
        "colab": {
          "base_uri": "https://localhost:8080/"
        },
        "id": "I2tGnvusAUFU",
        "outputId": "4daf717c-ff61-43fe-9b83-4079ca1b3033"
      },
      "outputs": [
        {
          "name": "stdout",
          "output_type": "stream",
          "text": [
            "50/50 [==============================] - 9s 171ms/step\n",
            "50/50 [==============================] - 6s 114ms/step - loss: 0.2570 - accuracy: 0.9227\n",
            "Test accuracy: 92.27%\n",
            "Test loss:  0.26\n",
            "Test accuracy: 92.27%\n"
          ]
        }
      ],
      "source": [
        "# Evaluate the model  --> first method\n",
        "y_pred = model.predict(X_test)\n",
        "y_pred = np.argmax(y_pred, axis = 1)\n",
        "y_real = np.argmax(y_test, axis = 1)\n",
        "\n",
        "# display result of evaluate the model  --> first method\n",
        "test_loss, test_acc = model.evaluate(X_test, y_test)\n",
        "print(\"Test accuracy: {:.2f}%\".format(test_acc * 100))\n",
        "print(f\"Test loss: {test_loss: 0.2f}\")\n",
        "\n",
        "# display result of evaluate the model  --> first method\n",
        "accuracy = np.sum(y_pred == y_real) / len(y_test)\n",
        "print(\"Test accuracy: {:.2f}%\".format(accuracy * 100))"
      ]
    },
    {
      "cell_type": "code",
      "execution_count": 29,
      "metadata": {
        "colab": {
          "base_uri": "https://localhost:8080/"
        },
        "id": "bd9NfJatAdCW",
        "outputId": "82e422df-ef47-48ab-cc6e-84a733dc339f"
      },
      "outputs": [
        {
          "name": "stdout",
          "output_type": "stream",
          "text": [
            "              precision    recall  f1-score   support\n",
            "\n",
            "         bag       0.97      0.92      0.94       161\n",
            "       dress       0.80      0.73      0.76       164\n",
            "     eyewear       0.99      1.00      1.00       146\n",
            "        hats       0.99      0.96      0.97       165\n",
            "    neckwear       0.94      0.97      0.96       140\n",
            "       pants       0.98      0.97      0.98       176\n",
            "       skirt       0.93      0.90      0.91       153\n",
            "       shoes       0.94      0.97      0.96       153\n",
            "         top       0.72      0.83      0.77       154\n",
            "     watches       0.98      0.99      0.99       167\n",
            "\n",
            "    accuracy                           0.92      1579\n",
            "   macro avg       0.92      0.92      0.92      1579\n",
            "weighted avg       0.92      0.92      0.92      1579\n",
            "\n"
          ]
        }
      ],
      "source": [
        "print(classification_report(y_real, y_pred, target_names=class_names))"
      ]
    },
    {
      "cell_type": "markdown",
      "metadata": {},
      "source": [
        "## Confusion Matrix\n",
        "We visualize the confusion matrix to understand the model's performance across different classes."
      ]
    },
    {
      "cell_type": "code",
      "execution_count": 30,
      "metadata": {
        "colab": {
          "base_uri": "https://localhost:8080/",
          "height": 604
        },
        "id": "0TBm9tOHAfgB",
        "outputId": "bbad149c-ebeb-406a-f9f4-8e57067c3406"
      },
      "outputs": [
        {
          "data": {
            "image/png": "[encoded data removed]",
            "text/plain": [
              "<Figure size 1400x600 with 2 Axes>"
            ]
          },
          "metadata": {},
          "output_type": "display_data"
        }
      ],
      "source": [
        "# display confusion matrix\n",
        "fig, ax = plt.subplots(1,1,figsize=(14, 6))\n",
        "sns.heatmap(confusion_matrix(y_real, y_pred), xticklabels=class_names, yticklabels=class_names,annot=True, linewidths=2, linecolor='white', ax=ax)\n",
        "fig.text(s=\"Confusion Matrix\", size=18,fontweight='bold', fontname='DejaVu Sans', y=0.88,x=0.30,alpha=0.8)\n",
        "bottom, top = plt.ylim()\n",
        "plt.ylim(bottom + 0.5, top - 0.5)\n",
        "plt.xlabel('Predicted', color='blue')\n",
        "plt.ylabel('Real', color='green')\n",
        "plt.xticks(rotation=45)\n",
        "plt.yticks(rotation=0)\n",
        "plt.show()\n",
        "# plt.show()"
      ]
    },
    {
      "cell_type": "markdown",
      "metadata": {},
      "source": [
        "## Conclusion\n",
        "In this project, we successfully implemented transfer learning with the VGG16 model for fashion image classification. The model demonstrated promising accuracy, and the evaluation metrics provide insights into areas for improvement."
      ]
    }
  ],
  "metadata": {
    "accelerator": "GPU",
    "colab": {
      "gpuType": "T4",
      "provenance": []
    },
    "kernelspec": {
      "display_name": "Python 3",
      "name": "python3"
    },
    "language_info": {
      "name": "python"
    }
  },
  "nbformat": 4,
  "nbformat_minor": 0
}
